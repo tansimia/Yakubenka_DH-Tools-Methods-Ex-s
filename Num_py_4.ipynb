{
 "cells": [
  {
   "cell_type": "code",
   "execution_count": 1,
   "id": "5eb81740-f5ff-4674-b378-e62eea53b8fc",
   "metadata": {
    "tags": []
   },
   "outputs": [],
   "source": [
    "import pandas as pd"
   ]
  },
  {
   "cell_type": "code",
   "execution_count": 2,
   "id": "dc7f881b-f6db-4b2e-971d-cd03892f893e",
   "metadata": {
    "tags": []
   },
   "outputs": [],
   "source": [
    "import numpy as np"
   ]
  },
  {
   "cell_type": "code",
   "execution_count": 3,
   "id": "25d63bf5-79cf-4126-8c1f-c502586ebef7",
   "metadata": {
    "tags": []
   },
   "outputs": [],
   "source": [
    "f500 = pd.read_csv('C:/Users/tanja/Documents/GitHub/Python_Course/Data/csv/f500.csv',index_col=0)"
   ]
  },
  {
   "cell_type": "code",
   "execution_count": 6,
   "id": "d3f36e9c-17a4-4390-bed8-4d6c496a756e",
   "metadata": {
    "tags": []
   },
   "outputs": [],
   "source": [
    "#task 3.4.1\n",
    "f500_head = f500.head(10)"
   ]
  },
  {
   "cell_type": "code",
   "execution_count": 5,
   "id": "f1b87fb5-497b-432d-ac97-a03f5b80a4a6",
   "metadata": {
    "tags": []
   },
   "outputs": [
    {
     "name": "stdout",
     "output_type": "stream",
     "text": [
      "<class 'pandas.core.frame.DataFrame'>\n",
      "Index: 500 entries, Walmart to AutoNation\n",
      "Data columns (total 16 columns):\n",
      " #   Column                    Non-Null Count  Dtype  \n",
      "---  ------                    --------------  -----  \n",
      " 0   rank                      500 non-null    int64  \n",
      " 1   revenues                  500 non-null    int64  \n",
      " 2   revenue_change            498 non-null    float64\n",
      " 3   profits                   499 non-null    float64\n",
      " 4   assets                    500 non-null    int64  \n",
      " 5   profit_change             436 non-null    float64\n",
      " 6   ceo                       500 non-null    object \n",
      " 7   industry                  500 non-null    object \n",
      " 8   sector                    500 non-null    object \n",
      " 9   previous_rank             500 non-null    int64  \n",
      " 10  country                   500 non-null    object \n",
      " 11  hq_location               500 non-null    object \n",
      " 12  website                   500 non-null    object \n",
      " 13  years_on_global_500_list  500 non-null    int64  \n",
      " 14  employees                 500 non-null    int64  \n",
      " 15  total_stockholder_equity  500 non-null    int64  \n",
      "dtypes: float64(3), int64(7), object(6)\n",
      "memory usage: 66.4+ KB\n"
     ]
    }
   ],
   "source": [
    "f500.info()"
   ]
  },
  {
   "cell_type": "code",
   "execution_count": 7,
   "id": "92b7cb63-1e91-466e-aaf7-637e0a21adeb",
   "metadata": {
    "tags": []
   },
   "outputs": [],
   "source": [
    "#task 3.4.2\n",
    "rank_change = f500['rank'] - f500['previous_rank']"
   ]
  },
  {
   "cell_type": "code",
   "execution_count": 8,
   "id": "a44e3b80-f0a8-45ca-af46-909da0d69df5",
   "metadata": {
    "tags": []
   },
   "outputs": [
    {
     "name": "stdout",
     "output_type": "stream",
     "text": [
      "company\n",
      "Walmart                             0\n",
      "State Grid                          0\n",
      "Sinopec Group                      -1\n",
      "China National Petroleum            1\n",
      "Toyota Motor                       -3\n",
      "                                 ... \n",
      "Teva Pharmaceutical Industries    496\n",
      "New China Life Insurance           70\n",
      "Wm. Morrison Supermarkets          61\n",
      "TUI                                32\n",
      "AutoNation                        500\n",
      "Length: 500, dtype: int64\n"
     ]
    }
   ],
   "source": [
    "print(rank_change)"
   ]
  },
  {
   "cell_type": "code",
   "execution_count": 9,
   "id": "a54c5f5c-028b-4f4b-95ad-108478f6f5a5",
   "metadata": {
    "tags": []
   },
   "outputs": [],
   "source": [
    "#task 3.4.3\n",
    "rank_change_max = rank_change.max()"
   ]
  },
  {
   "cell_type": "code",
   "execution_count": 10,
   "id": "98b90b56-86f8-4a4f-9ae5-5b343588b90f",
   "metadata": {
    "tags": []
   },
   "outputs": [],
   "source": [
    "rank_change_min = rank_change.min()"
   ]
  },
  {
   "cell_type": "code",
   "execution_count": 11,
   "id": "db4d7b11-68fc-4b17-b86e-b31a6d032be4",
   "metadata": {
    "tags": []
   },
   "outputs": [
    {
     "name": "stdout",
     "output_type": "stream",
     "text": [
      "count    5.000000e+02\n",
      "mean     2.436323e+05\n",
      "std      4.851937e+05\n",
      "min      3.717000e+03\n",
      "25%      3.658850e+04\n",
      "50%      7.326150e+04\n",
      "75%      1.805640e+05\n",
      "max      3.473238e+06\n",
      "Name: assets, dtype: float64\n"
     ]
    }
   ],
   "source": [
    "#4 describe method\n",
    "assets = f500[\"assets\"]\n",
    "print(assets.describe())"
   ]
  },
  {
   "cell_type": "code",
   "execution_count": 12,
   "id": "84dd69ba-22c7-487a-86ac-51b38b2ec024",
   "metadata": {
    "tags": []
   },
   "outputs": [
    {
     "name": "stdout",
     "output_type": "stream",
     "text": [
      "count     500\n",
      "unique     34\n",
      "top       USA\n",
      "freq      132\n",
      "Name: country, dtype: object\n"
     ]
    }
   ],
   "source": [
    "country = f500[\"country\"]\n",
    "print(country.describe())"
   ]
  },
  {
   "cell_type": "code",
   "execution_count": 14,
   "id": "055fb978-4552-4f4b-aceb-8e72ecf2e3c8",
   "metadata": {
    "tags": []
   },
   "outputs": [
    {
     "name": "stdout",
     "output_type": "stream",
     "text": [
      "count    500.000000\n",
      "mean     250.500000\n",
      "std      144.481833\n",
      "min        1.000000\n",
      "25%      125.750000\n",
      "50%      250.500000\n",
      "75%      375.250000\n",
      "max      500.000000\n",
      "Name: rank, dtype: float64\n"
     ]
    }
   ],
   "source": [
    "#task 3.4.4\n",
    "rank = f500['rank']\n",
    "rank_desc = rank.describe()\n",
    "print(rank_desc)"
   ]
  },
  {
   "cell_type": "code",
   "execution_count": 15,
   "id": "85c98553-ee81-4966-b0ab-0c02c3cd61fc",
   "metadata": {
    "tags": []
   },
   "outputs": [
    {
     "name": "stdout",
     "output_type": "stream",
     "text": [
      "count    500.000000\n",
      "mean     222.134000\n",
      "std      146.941961\n",
      "min        0.000000\n",
      "25%       92.750000\n",
      "50%      219.500000\n",
      "75%      347.250000\n",
      "max      500.000000\n",
      "Name: previous_rank, dtype: float64\n"
     ]
    }
   ],
   "source": [
    "prev_rank = f500['previous_rank']\n",
    "prev_rank_desc = prev_rank.describe()\n",
    "print(prev_rank_desc)"
   ]
  },
  {
   "cell_type": "code",
   "execution_count": 16,
   "id": "46615412-95ca-4b7b-af5e-21d5bb7ca3ab",
   "metadata": {
    "tags": []
   },
   "outputs": [],
   "source": [
    "#methos changing\n",
    "countries_counts = f500[\"country\"].value_counts()"
   ]
  },
  {
   "cell_type": "code",
   "execution_count": 17,
   "id": "5ad9fe74-002a-4580-8627-54b3593828b3",
   "metadata": {
    "tags": []
   },
   "outputs": [],
   "source": [
    "#task 3.4.5\n",
    "f500['previous_rank'].value_counts()\n",
    "#f500['previous_rank'].loc\n",
    "zero_previous_rank = f500.loc[:,\"previous_rank\"].value_counts()[0]"
   ]
  },
  {
   "cell_type": "code",
   "execution_count": 18,
   "id": "074368bc-78a6-496c-b271-742f6bc5c60b",
   "metadata": {
    "tags": []
   },
   "outputs": [
    {
     "name": "stdout",
     "output_type": "stream",
     "text": [
      "revenues    40236.0\n",
      "profits      1761.6\n",
      "dtype: float64\n"
     ]
    }
   ],
   "source": [
    "#df exploration method\n",
    "medians = f500[[\"revenues\", \"profits\"]].median(axis=0)\n",
    "# we could also use .median(axis=\"index\")\n",
    "print(medians)"
   ]
  },
  {
   "cell_type": "code",
   "execution_count": 19,
   "id": "98114c38-e074-46f2-b931-7ce82e66bbd8",
   "metadata": {
    "tags": []
   },
   "outputs": [],
   "source": [
    "#task 3.4.6\n",
    "max_f500 = f500.max(numeric_only = True)"
   ]
  },
  {
   "cell_type": "code",
   "execution_count": 20,
   "id": "c6cda55e-f86a-4d65-86eb-dd1cab12d703",
   "metadata": {
    "tags": []
   },
   "outputs": [
    {
     "name": "stdout",
     "output_type": "stream",
     "text": [
      "rank                            500.0\n",
      "revenues                     485873.0\n",
      "revenue_change                  442.3\n",
      "profits                       45687.0\n",
      "assets                      3473238.0\n",
      "profit_change                  8909.5\n",
      "previous_rank                   500.0\n",
      "years_on_global_500_list         23.0\n",
      "employees                   2300000.0\n",
      "total_stockholder_equity     301893.0\n",
      "dtype: float64\n"
     ]
    }
   ],
   "source": [
    "print(max_f500)"
   ]
  },
  {
   "cell_type": "code",
   "execution_count": 21,
   "id": "12e4f67b-74ee-47a5-9838-4503560bcc81",
   "metadata": {
    "tags": []
   },
   "outputs": [
    {
     "name": "stdout",
     "output_type": "stream",
     "text": [
      "<bound method NDFrame.describe of                                 rank  revenues  revenue_change  profits  \\\n",
      "company                                                                   \n",
      "Walmart                            1    485873             0.8  13643.0   \n",
      "State Grid                         2    315199            -4.4   9571.3   \n",
      "Sinopec Group                      3    267518            -9.1   1257.9   \n",
      "China National Petroleum           4    262573           -12.3   1867.5   \n",
      "Toyota Motor                       5    254694             7.7  16899.3   \n",
      "...                              ...       ...             ...      ...   \n",
      "Teva Pharmaceutical Industries   496     21903            11.5    329.0   \n",
      "New China Life Insurance         497     21796           -13.3    743.9   \n",
      "Wm. Morrison Supermarkets        498     21741           -11.3    406.4   \n",
      "TUI                              499     21655            -5.5   1151.7   \n",
      "AutoNation                       500     21609             3.6    430.5   \n",
      "\n",
      "                                assets  profit_change                  ceo  \\\n",
      "company                                                                      \n",
      "Walmart                         198825           -7.2  C. Douglas McMillon   \n",
      "State Grid                      489838           -6.2              Kou Wei   \n",
      "Sinopec Group                   310726          -65.0            Wang Yupu   \n",
      "China National Petroleum        585619          -73.7        Zhang Jianhua   \n",
      "Toyota Motor                    437575          -12.3          Akio Toyoda   \n",
      "...                                ...            ...                  ...   \n",
      "Teva Pharmaceutical Industries   92890          -79.3    Yitzhak Peterburg   \n",
      "New China Life Insurance        100609          -45.6             Wan Feng   \n",
      "Wm. Morrison Supermarkets        11630           20.4       David T. Potts   \n",
      "TUI                              16247          195.5    Friedrich Joussen   \n",
      "AutoNation                       10060           -2.7   Michael J. Jackson   \n",
      "\n",
      "                                                       industry  \\\n",
      "company                                                           \n",
      "Walmart                                   General Merchandisers   \n",
      "State Grid                                            Utilities   \n",
      "Sinopec Group                                Petroleum Refining   \n",
      "China National Petroleum                     Petroleum Refining   \n",
      "Toyota Motor                           Motor Vehicles and Parts   \n",
      "...                                                         ...   \n",
      "Teva Pharmaceutical Industries                  Pharmaceuticals   \n",
      "New China Life Insurance        Insurance: Life, Health (stock)   \n",
      "Wm. Morrison Supermarkets                  Food and Drug Stores   \n",
      "TUI                                             Travel Services   \n",
      "AutoNation                                  Specialty Retailers   \n",
      "\n",
      "                                                sector  previous_rank  \\\n",
      "company                                                                 \n",
      "Walmart                                      Retailing              1   \n",
      "State Grid                                      Energy              2   \n",
      "Sinopec Group                                   Energy              4   \n",
      "China National Petroleum                        Energy              3   \n",
      "Toyota Motor                    Motor Vehicles & Parts              8   \n",
      "...                                                ...            ...   \n",
      "Teva Pharmaceutical Industries             Health Care              0   \n",
      "New China Life Insurance                    Financials            427   \n",
      "Wm. Morrison Supermarkets           Food & Drug Stores            437   \n",
      "TUI                                  Business Services            467   \n",
      "AutoNation                                   Retailing              0   \n",
      "\n",
      "                                country           hq_location  \\\n",
      "company                                                         \n",
      "Walmart                             USA       Bentonville, AR   \n",
      "State Grid                        China        Beijing, China   \n",
      "Sinopec Group                     China        Beijing, China   \n",
      "China National Petroleum          China        Beijing, China   \n",
      "Toyota Motor                      Japan         Toyota, Japan   \n",
      "...                                 ...                   ...   \n",
      "Teva Pharmaceutical Industries   Israel  Petach Tikva, Israel   \n",
      "New China Life Insurance          China        Beijing, China   \n",
      "Wm. Morrison Supermarkets       Britain     Bradford, Britain   \n",
      "TUI                             Germany      Hanover, Germany   \n",
      "AutoNation                          USA   Fort Lauderdale, FL   \n",
      "\n",
      "                                                     website  \\\n",
      "company                                                        \n",
      "Walmart                               http://www.walmart.com   \n",
      "State Grid                            http://www.sgcc.com.cn   \n",
      "Sinopec Group                         http://www.sinopec.com   \n",
      "China National Petroleum              http://www.cnpc.com.cn   \n",
      "Toyota Motor                    http://www.toyota-global.com   \n",
      "...                                                      ...   \n",
      "Teva Pharmaceutical Industries      http://www.tevapharm.com   \n",
      "New China Life Insurance         http://www.newchinalife.com   \n",
      "Wm. Morrison Supermarkets           http://www.morrisons.com   \n",
      "TUI                                  http://www.tuigroup.com   \n",
      "AutoNation                         http://www.autonation.com   \n",
      "\n",
      "                                years_on_global_500_list  employees  \\\n",
      "company                                                               \n",
      "Walmart                                               23    2300000   \n",
      "State Grid                                            17     926067   \n",
      "Sinopec Group                                         19     713288   \n",
      "China National Petroleum                              17    1512048   \n",
      "Toyota Motor                                          23     364445   \n",
      "...                                                  ...        ...   \n",
      "Teva Pharmaceutical Industries                         1      56960   \n",
      "New China Life Insurance                               2      54378   \n",
      "Wm. Morrison Supermarkets                             13      77210   \n",
      "TUI                                                   23      66779   \n",
      "AutoNation                                            12      26000   \n",
      "\n",
      "                                total_stockholder_equity  \n",
      "company                                                   \n",
      "Walmart                                            77798  \n",
      "State Grid                                        209456  \n",
      "Sinopec Group                                     106523  \n",
      "China National Petroleum                          301893  \n",
      "Toyota Motor                                      157210  \n",
      "...                                                  ...  \n",
      "Teva Pharmaceutical Industries                     33337  \n",
      "New China Life Insurance                            8507  \n",
      "Wm. Morrison Supermarkets                           5111  \n",
      "TUI                                                 3006  \n",
      "AutoNation                                          2310  \n",
      "\n",
      "[500 rows x 16 columns]>\n"
     ]
    }
   ],
   "source": [
    "#7 df describe method\n",
    "#3.4.7\n",
    "f500_desc = f500.describe\n",
    "print(f500_desc)"
   ]
  },
  {
   "cell_type": "code",
   "execution_count": 22,
   "id": "246b71a4-c72a-4e5b-b6df-e3ccc7c5d684",
   "metadata": {
    "tags": []
   },
   "outputs": [],
   "source": [
    "#task 3.4.8\n",
    "f500.loc[\"Dow Chemical\",\"ceo\"] = \"Jim Fitterling\"\n"
   ]
  },
  {
   "cell_type": "code",
   "execution_count": 23,
   "id": "32ad515b-f174-48d3-a780-8d2e686aa3fe",
   "metadata": {
    "tags": []
   },
   "outputs": [],
   "source": [
    "#task 3.4.9\n",
    "motor_bool = f500.loc[:,'industry'] == 'Motor Vehicles and Parts'\n",
    "motor_countries = f500.loc[motor_bool,'country']"
   ]
  },
  {
   "cell_type": "code",
   "execution_count": 24,
   "id": "b96ce8cc-a74f-4de3-930d-abfc695eacfe",
   "metadata": {
    "tags": []
   },
   "outputs": [],
   "source": [
    "#task 3.4.10\n",
    "import numpy as np\n",
    "f500 = pd.read_csv('C:/Users/tanja/Documents/GitHub/Python_Course/Data/csv/f500.csv',index_col=0)\n",
    "prev_rank_before = f500[\"previous_rank\"].value_counts(dropna=False).head()"
   ]
  },
  {
   "cell_type": "code",
   "execution_count": 27,
   "id": "68f4bf9e-44ca-408e-bcee-5610d1b1f80c",
   "metadata": {
    "tags": []
   },
   "outputs": [
    {
     "name": "stdout",
     "output_type": "stream",
     "text": [
      "previous_rank\n",
      "0      33\n",
      "1       1\n",
      "302     1\n",
      "334     1\n",
      "325     1\n",
      "Name: count, dtype: int64\n",
      "\n",
      "previous_rank\n",
      "NaN      33\n",
      "1.0       1\n",
      "302.0     1\n",
      "334.0     1\n",
      "325.0     1\n",
      "Name: count, dtype: int64\n"
     ]
    }
   ],
   "source": [
    "f500.loc[f500[\"previous_rank\"] == 0, \"previous_rank\"] = np.nan\n",
    "prev_rank_after = f500[\"previous_rank\"].value_counts(dropna=False).head()\n",
    "\n",
    "print(prev_rank_before)\n",
    "print()\n",
    "print(prev_rank_after)"
   ]
  },
  {
   "cell_type": "code",
   "execution_count": 28,
   "id": "b549d565-d153-4f54-bbbf-55c30178a066",
   "metadata": {
    "tags": []
   },
   "outputs": [
    {
     "name": "stdout",
     "output_type": "stream",
     "text": [
      "True\n"
     ]
    }
   ],
   "source": [
    "#3.4.11\n",
    "f500[\"rank_change\"] = f500[\"rank\"] - f500[\"previous_rank\"]\n",
    "rank_change_desc = f500[\"rank_change\"].describe()\n",
    "rank_change_desc[\"min\"]>-500\n",
    "print(rank_change_desc[\"min\"]>-500)"
   ]
  },
  {
   "cell_type": "code",
   "execution_count": null,
   "id": "d940e82f-1cd1-4206-9ba5-c3c7f5a6a69f",
   "metadata": {},
   "outputs": [],
   "source": []
  }
 ],
 "metadata": {
  "kernelspec": {
   "display_name": "Python 3 (ipykernel)",
   "language": "python",
   "name": "python3"
  },
  "language_info": {
   "codemirror_mode": {
    "name": "ipython",
    "version": 3
   },
   "file_extension": ".py",
   "mimetype": "text/x-python",
   "name": "python",
   "nbconvert_exporter": "python",
   "pygments_lexer": "ipython3",
   "version": "3.11.5"
  }
 },
 "nbformat": 4,
 "nbformat_minor": 5
}
