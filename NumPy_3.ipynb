{
 "cells": [
  {
   "cell_type": "code",
   "execution_count": 1,
   "id": "593ef209-9752-42ff-8dfd-496e9f854744",
   "metadata": {
    "tags": []
   },
   "outputs": [],
   "source": [
    "import pandas as pd"
   ]
  },
  {
   "cell_type": "code",
   "execution_count": 2,
   "id": "a7d6c051-f4d7-457b-9a0d-af3330c4571e",
   "metadata": {
    "tags": []
   },
   "outputs": [],
   "source": [
    "#task 3.3.2\n",
    "f500 = pd.read_csv('C:/Users/tanja/Documents/GitHub/Python_Course/Data/csv/f500.csv',index_col=0)"
   ]
  },
  {
   "cell_type": "code",
   "execution_count": 3,
   "id": "a3eafc69-432f-4d75-a5bf-0597f4c149a2",
   "metadata": {
    "tags": []
   },
   "outputs": [],
   "source": [
    "f500.index.name = None"
   ]
  },
  {
   "cell_type": "code",
   "execution_count": 5,
   "id": "afc931a7-9a2c-48d4-854a-6d7b3fcc7a02",
   "metadata": {
    "tags": []
   },
   "outputs": [],
   "source": [
    "f500_type = type(f500)"
   ]
  },
  {
   "cell_type": "code",
   "execution_count": 6,
   "id": "c56fe654-33a7-4c87-9634-065427199621",
   "metadata": {
    "tags": []
   },
   "outputs": [],
   "source": [
    "f500_shape = f500.shape"
   ]
  },
  {
   "cell_type": "code",
   "execution_count": 7,
   "id": "7fe9b662-0634-4281-95bc-ace196e3e03f",
   "metadata": {
    "tags": []
   },
   "outputs": [
    {
     "name": "stdout",
     "output_type": "stream",
     "text": [
      "<class 'pandas.core.frame.DataFrame'>\n"
     ]
    }
   ],
   "source": [
    "print(f500_type)"
   ]
  },
  {
   "cell_type": "code",
   "execution_count": 8,
   "id": "f90f752c-e243-476c-a965-d5c7a6b51083",
   "metadata": {
    "tags": []
   },
   "outputs": [
    {
     "name": "stdout",
     "output_type": "stream",
     "text": [
      "(500, 16)\n"
     ]
    }
   ],
   "source": [
    "print(f500_shape)"
   ]
  },
  {
   "cell_type": "code",
   "execution_count": 9,
   "id": "baea840f-5e71-4e5c-9ebb-92f9cbfa033b",
   "metadata": {
    "tags": []
   },
   "outputs": [
    {
     "data": {
      "text/html": [
       "<div>\n",
       "<style scoped>\n",
       "    .dataframe tbody tr th:only-of-type {\n",
       "        vertical-align: middle;\n",
       "    }\n",
       "\n",
       "    .dataframe tbody tr th {\n",
       "        vertical-align: top;\n",
       "    }\n",
       "\n",
       "    .dataframe thead th {\n",
       "        text-align: right;\n",
       "    }\n",
       "</style>\n",
       "<table border=\"1\" class=\"dataframe\">\n",
       "  <thead>\n",
       "    <tr style=\"text-align: right;\">\n",
       "      <th></th>\n",
       "      <th>rank</th>\n",
       "      <th>revenues</th>\n",
       "      <th>revenue_change</th>\n",
       "      <th>profits</th>\n",
       "      <th>assets</th>\n",
       "      <th>profit_change</th>\n",
       "      <th>ceo</th>\n",
       "      <th>industry</th>\n",
       "      <th>sector</th>\n",
       "      <th>previous_rank</th>\n",
       "      <th>country</th>\n",
       "      <th>hq_location</th>\n",
       "      <th>website</th>\n",
       "      <th>years_on_global_500_list</th>\n",
       "      <th>employees</th>\n",
       "      <th>total_stockholder_equity</th>\n",
       "    </tr>\n",
       "  </thead>\n",
       "  <tbody>\n",
       "    <tr>\n",
       "      <th>Walmart</th>\n",
       "      <td>1</td>\n",
       "      <td>485873</td>\n",
       "      <td>0.8</td>\n",
       "      <td>13643.0</td>\n",
       "      <td>198825</td>\n",
       "      <td>-7.2</td>\n",
       "      <td>C. Douglas McMillon</td>\n",
       "      <td>General Merchandisers</td>\n",
       "      <td>Retailing</td>\n",
       "      <td>1</td>\n",
       "      <td>USA</td>\n",
       "      <td>Bentonville, AR</td>\n",
       "      <td>http://www.walmart.com</td>\n",
       "      <td>23</td>\n",
       "      <td>2300000</td>\n",
       "      <td>77798</td>\n",
       "    </tr>\n",
       "    <tr>\n",
       "      <th>State Grid</th>\n",
       "      <td>2</td>\n",
       "      <td>315199</td>\n",
       "      <td>-4.4</td>\n",
       "      <td>9571.3</td>\n",
       "      <td>489838</td>\n",
       "      <td>-6.2</td>\n",
       "      <td>Kou Wei</td>\n",
       "      <td>Utilities</td>\n",
       "      <td>Energy</td>\n",
       "      <td>2</td>\n",
       "      <td>China</td>\n",
       "      <td>Beijing, China</td>\n",
       "      <td>http://www.sgcc.com.cn</td>\n",
       "      <td>17</td>\n",
       "      <td>926067</td>\n",
       "      <td>209456</td>\n",
       "    </tr>\n",
       "    <tr>\n",
       "      <th>Sinopec Group</th>\n",
       "      <td>3</td>\n",
       "      <td>267518</td>\n",
       "      <td>-9.1</td>\n",
       "      <td>1257.9</td>\n",
       "      <td>310726</td>\n",
       "      <td>-65.0</td>\n",
       "      <td>Wang Yupu</td>\n",
       "      <td>Petroleum Refining</td>\n",
       "      <td>Energy</td>\n",
       "      <td>4</td>\n",
       "      <td>China</td>\n",
       "      <td>Beijing, China</td>\n",
       "      <td>http://www.sinopec.com</td>\n",
       "      <td>19</td>\n",
       "      <td>713288</td>\n",
       "      <td>106523</td>\n",
       "    </tr>\n",
       "  </tbody>\n",
       "</table>\n",
       "</div>"
      ],
      "text/plain": [
       "               rank  revenues  revenue_change  profits  assets  profit_change  \\\n",
       "Walmart           1    485873             0.8  13643.0  198825           -7.2   \n",
       "State Grid        2    315199            -4.4   9571.3  489838           -6.2   \n",
       "Sinopec Group     3    267518            -9.1   1257.9  310726          -65.0   \n",
       "\n",
       "                               ceo               industry     sector  \\\n",
       "Walmart        C. Douglas McMillon  General Merchandisers  Retailing   \n",
       "State Grid                 Kou Wei              Utilities     Energy   \n",
       "Sinopec Group            Wang Yupu     Petroleum Refining     Energy   \n",
       "\n",
       "               previous_rank country      hq_location                 website  \\\n",
       "Walmart                    1     USA  Bentonville, AR  http://www.walmart.com   \n",
       "State Grid                 2   China   Beijing, China  http://www.sgcc.com.cn   \n",
       "Sinopec Group              4   China   Beijing, China  http://www.sinopec.com   \n",
       "\n",
       "               years_on_global_500_list  employees  total_stockholder_equity  \n",
       "Walmart                              23    2300000                     77798  \n",
       "State Grid                           17     926067                    209456  \n",
       "Sinopec Group                        19     713288                    106523  "
      ]
     },
     "execution_count": 9,
     "metadata": {},
     "output_type": "execute_result"
    }
   ],
   "source": [
    "f500.head(3)"
   ]
  },
  {
   "cell_type": "code",
   "execution_count": 10,
   "id": "3e1ca10b-00da-4db6-89e7-85c8082e2624",
   "metadata": {
    "tags": []
   },
   "outputs": [
    {
     "data": {
      "text/html": [
       "<div>\n",
       "<style scoped>\n",
       "    .dataframe tbody tr th:only-of-type {\n",
       "        vertical-align: middle;\n",
       "    }\n",
       "\n",
       "    .dataframe tbody tr th {\n",
       "        vertical-align: top;\n",
       "    }\n",
       "\n",
       "    .dataframe thead th {\n",
       "        text-align: right;\n",
       "    }\n",
       "</style>\n",
       "<table border=\"1\" class=\"dataframe\">\n",
       "  <thead>\n",
       "    <tr style=\"text-align: right;\">\n",
       "      <th></th>\n",
       "      <th>rank</th>\n",
       "      <th>revenues</th>\n",
       "      <th>revenue_change</th>\n",
       "      <th>profits</th>\n",
       "      <th>assets</th>\n",
       "      <th>profit_change</th>\n",
       "      <th>ceo</th>\n",
       "      <th>industry</th>\n",
       "      <th>sector</th>\n",
       "      <th>previous_rank</th>\n",
       "      <th>country</th>\n",
       "      <th>hq_location</th>\n",
       "      <th>website</th>\n",
       "      <th>years_on_global_500_list</th>\n",
       "      <th>employees</th>\n",
       "      <th>total_stockholder_equity</th>\n",
       "    </tr>\n",
       "  </thead>\n",
       "  <tbody>\n",
       "    <tr>\n",
       "      <th>Wm. Morrison Supermarkets</th>\n",
       "      <td>498</td>\n",
       "      <td>21741</td>\n",
       "      <td>-11.3</td>\n",
       "      <td>406.4</td>\n",
       "      <td>11630</td>\n",
       "      <td>20.4</td>\n",
       "      <td>David T. Potts</td>\n",
       "      <td>Food and Drug Stores</td>\n",
       "      <td>Food &amp; Drug Stores</td>\n",
       "      <td>437</td>\n",
       "      <td>Britain</td>\n",
       "      <td>Bradford, Britain</td>\n",
       "      <td>http://www.morrisons.com</td>\n",
       "      <td>13</td>\n",
       "      <td>77210</td>\n",
       "      <td>5111</td>\n",
       "    </tr>\n",
       "    <tr>\n",
       "      <th>TUI</th>\n",
       "      <td>499</td>\n",
       "      <td>21655</td>\n",
       "      <td>-5.5</td>\n",
       "      <td>1151.7</td>\n",
       "      <td>16247</td>\n",
       "      <td>195.5</td>\n",
       "      <td>Friedrich Joussen</td>\n",
       "      <td>Travel Services</td>\n",
       "      <td>Business Services</td>\n",
       "      <td>467</td>\n",
       "      <td>Germany</td>\n",
       "      <td>Hanover, Germany</td>\n",
       "      <td>http://www.tuigroup.com</td>\n",
       "      <td>23</td>\n",
       "      <td>66779</td>\n",
       "      <td>3006</td>\n",
       "    </tr>\n",
       "    <tr>\n",
       "      <th>AutoNation</th>\n",
       "      <td>500</td>\n",
       "      <td>21609</td>\n",
       "      <td>3.6</td>\n",
       "      <td>430.5</td>\n",
       "      <td>10060</td>\n",
       "      <td>-2.7</td>\n",
       "      <td>Michael J. Jackson</td>\n",
       "      <td>Specialty Retailers</td>\n",
       "      <td>Retailing</td>\n",
       "      <td>0</td>\n",
       "      <td>USA</td>\n",
       "      <td>Fort Lauderdale, FL</td>\n",
       "      <td>http://www.autonation.com</td>\n",
       "      <td>12</td>\n",
       "      <td>26000</td>\n",
       "      <td>2310</td>\n",
       "    </tr>\n",
       "  </tbody>\n",
       "</table>\n",
       "</div>"
      ],
      "text/plain": [
       "                           rank  revenues  revenue_change  profits  assets  \\\n",
       "Wm. Morrison Supermarkets   498     21741           -11.3    406.4   11630   \n",
       "TUI                         499     21655            -5.5   1151.7   16247   \n",
       "AutoNation                  500     21609             3.6    430.5   10060   \n",
       "\n",
       "                           profit_change                 ceo  \\\n",
       "Wm. Morrison Supermarkets           20.4      David T. Potts   \n",
       "TUI                                195.5   Friedrich Joussen   \n",
       "AutoNation                          -2.7  Michael J. Jackson   \n",
       "\n",
       "                                       industry              sector  \\\n",
       "Wm. Morrison Supermarkets  Food and Drug Stores  Food & Drug Stores   \n",
       "TUI                             Travel Services   Business Services   \n",
       "AutoNation                  Specialty Retailers           Retailing   \n",
       "\n",
       "                           previous_rank  country          hq_location  \\\n",
       "Wm. Morrison Supermarkets            437  Britain    Bradford, Britain   \n",
       "TUI                                  467  Germany     Hanover, Germany   \n",
       "AutoNation                             0      USA  Fort Lauderdale, FL   \n",
       "\n",
       "                                             website  \\\n",
       "Wm. Morrison Supermarkets   http://www.morrisons.com   \n",
       "TUI                          http://www.tuigroup.com   \n",
       "AutoNation                 http://www.autonation.com   \n",
       "\n",
       "                           years_on_global_500_list  employees  \\\n",
       "Wm. Morrison Supermarkets                        13      77210   \n",
       "TUI                                              23      66779   \n",
       "AutoNation                                       12      26000   \n",
       "\n",
       "                           total_stockholder_equity  \n",
       "Wm. Morrison Supermarkets                      5111  \n",
       "TUI                                            3006  \n",
       "AutoNation                                     2310  "
      ]
     },
     "execution_count": 10,
     "metadata": {},
     "output_type": "execute_result"
    }
   ],
   "source": [
    "f500.tail(3)"
   ]
  },
  {
   "cell_type": "code",
   "execution_count": 13,
   "id": "5d3ec1d0-cee1-4921-a7c5-0f9e28557666",
   "metadata": {
    "tags": []
   },
   "outputs": [],
   "source": [
    "#task 3.3.3\n",
    "f500_head = f500.head(6)"
   ]
  },
  {
   "cell_type": "code",
   "execution_count": 14,
   "id": "64b57dbd-8f6a-499a-8a6c-92cdbdae7642",
   "metadata": {
    "tags": []
   },
   "outputs": [],
   "source": [
    "f500_tail = f500.tail(8)"
   ]
  },
  {
   "cell_type": "code",
   "execution_count": 15,
   "id": "b9c46198-66ca-4829-8081-98a5ea73ca0f",
   "metadata": {
    "tags": []
   },
   "outputs": [
    {
     "name": "stdout",
     "output_type": "stream",
     "text": [
      "rank                          int64\n",
      "revenues                      int64\n",
      "revenue_change              float64\n",
      "profits                     float64\n",
      "assets                        int64\n",
      "profit_change               float64\n",
      "ceo                          object\n",
      "industry                     object\n",
      "sector                       object\n",
      "previous_rank                 int64\n",
      "country                      object\n",
      "hq_location                  object\n",
      "website                      object\n",
      "years_on_global_500_list      int64\n",
      "employees                     int64\n",
      "total_stockholder_equity      int64\n",
      "dtype: object\n"
     ]
    }
   ],
   "source": [
    "print(f500.dtypes)"
   ]
  },
  {
   "cell_type": "code",
   "execution_count": 16,
   "id": "bf63911f-6e33-4752-9ddb-9d805e316560",
   "metadata": {
    "tags": []
   },
   "outputs": [
    {
     "name": "stdout",
     "output_type": "stream",
     "text": [
      "<class 'pandas.core.frame.DataFrame'>\n",
      "Index: 500 entries, Walmart to AutoNation\n",
      "Data columns (total 16 columns):\n",
      " #   Column                    Non-Null Count  Dtype  \n",
      "---  ------                    --------------  -----  \n",
      " 0   rank                      500 non-null    int64  \n",
      " 1   revenues                  500 non-null    int64  \n",
      " 2   revenue_change            498 non-null    float64\n",
      " 3   profits                   499 non-null    float64\n",
      " 4   assets                    500 non-null    int64  \n",
      " 5   profit_change             436 non-null    float64\n",
      " 6   ceo                       500 non-null    object \n",
      " 7   industry                  500 non-null    object \n",
      " 8   sector                    500 non-null    object \n",
      " 9   previous_rank             500 non-null    int64  \n",
      " 10  country                   500 non-null    object \n",
      " 11  hq_location               500 non-null    object \n",
      " 12  website                   500 non-null    object \n",
      " 13  years_on_global_500_list  500 non-null    int64  \n",
      " 14  employees                 500 non-null    int64  \n",
      " 15  total_stockholder_equity  500 non-null    int64  \n",
      "dtypes: float64(3), int64(7), object(6)\n",
      "memory usage: 66.4+ KB\n"
     ]
    }
   ],
   "source": [
    "#task 3.3.4\n",
    "f500.info()"
   ]
  },
  {
   "cell_type": "code",
   "execution_count": 17,
   "id": "b20beef8-b8a3-4a0f-81f8-5fc00e6c6a66",
   "metadata": {
    "tags": []
   },
   "outputs": [
    {
     "data": {
      "text/plain": [
       "Walmart                             1\n",
       "State Grid                          2\n",
       "Sinopec Group                       3\n",
       "China National Petroleum            4\n",
       "Toyota Motor                        5\n",
       "                                 ... \n",
       "Teva Pharmaceutical Industries    496\n",
       "New China Life Insurance          497\n",
       "Wm. Morrison Supermarkets         498\n",
       "TUI                               499\n",
       "AutoNation                        500\n",
       "Name: rank, Length: 500, dtype: int64"
      ]
     },
     "execution_count": 17,
     "metadata": {},
     "output_type": "execute_result"
    }
   ],
   "source": [
    "#selecting a column from a DataFrame by Label\n",
    "f500.loc[:,'rank']"
   ]
  },
  {
   "cell_type": "code",
   "execution_count": 18,
   "id": "392e726f-98f0-4669-9ae8-589de326d065",
   "metadata": {
    "tags": []
   },
   "outputs": [
    {
     "name": "stdout",
     "output_type": "stream",
     "text": [
      "Walmart                             1\n",
      "State Grid                          2\n",
      "Sinopec Group                       3\n",
      "China National Petroleum            4\n",
      "Toyota Motor                        5\n",
      "                                 ... \n",
      "Teva Pharmaceutical Industries    496\n",
      "New China Life Insurance          497\n",
      "Wm. Morrison Supermarkets         498\n",
      "TUI                               499\n",
      "AutoNation                        500\n",
      "Name: rank, Length: 500, dtype: int64\n"
     ]
    }
   ],
   "source": [
    "rank_col = f500['rank']\n",
    "print(rank_col)"
   ]
  },
  {
   "cell_type": "code",
   "execution_count": 20,
   "id": "9bcb6f3e-5859-4d19-b271-4c150065cf58",
   "metadata": {
    "tags": []
   },
   "outputs": [],
   "source": [
    "#task 3.3.5\n",
    "industries = f500['industry']"
   ]
  },
  {
   "cell_type": "code",
   "execution_count": 21,
   "id": "535b80af-0dbd-4376-a077-259dd8b053f0",
   "metadata": {
    "tags": []
   },
   "outputs": [
    {
     "name": "stdout",
     "output_type": "stream",
     "text": [
      "<class 'pandas.core.series.Series'>\n"
     ]
    }
   ],
   "source": [
    "industries_type = type(industries)\n",
    "print(industries_type)"
   ]
  },
  {
   "cell_type": "code",
   "execution_count": 22,
   "id": "d47ce492-40a2-4061-955c-abbdc44a6c4f",
   "metadata": {
    "tags": []
   },
   "outputs": [
    {
     "data": {
      "text/html": [
       "<div>\n",
       "<style scoped>\n",
       "    .dataframe tbody tr th:only-of-type {\n",
       "        vertical-align: middle;\n",
       "    }\n",
       "\n",
       "    .dataframe tbody tr th {\n",
       "        vertical-align: top;\n",
       "    }\n",
       "\n",
       "    .dataframe thead th {\n",
       "        text-align: right;\n",
       "    }\n",
       "</style>\n",
       "<table border=\"1\" class=\"dataframe\">\n",
       "  <thead>\n",
       "    <tr style=\"text-align: right;\">\n",
       "      <th></th>\n",
       "      <th>country</th>\n",
       "      <th>rank</th>\n",
       "    </tr>\n",
       "  </thead>\n",
       "  <tbody>\n",
       "    <tr>\n",
       "      <th>Walmart</th>\n",
       "      <td>USA</td>\n",
       "      <td>1</td>\n",
       "    </tr>\n",
       "    <tr>\n",
       "      <th>State Grid</th>\n",
       "      <td>China</td>\n",
       "      <td>2</td>\n",
       "    </tr>\n",
       "    <tr>\n",
       "      <th>Sinopec Group</th>\n",
       "      <td>China</td>\n",
       "      <td>3</td>\n",
       "    </tr>\n",
       "    <tr>\n",
       "      <th>China National Petroleum</th>\n",
       "      <td>China</td>\n",
       "      <td>4</td>\n",
       "    </tr>\n",
       "    <tr>\n",
       "      <th>Toyota Motor</th>\n",
       "      <td>Japan</td>\n",
       "      <td>5</td>\n",
       "    </tr>\n",
       "    <tr>\n",
       "      <th>...</th>\n",
       "      <td>...</td>\n",
       "      <td>...</td>\n",
       "    </tr>\n",
       "    <tr>\n",
       "      <th>Teva Pharmaceutical Industries</th>\n",
       "      <td>Israel</td>\n",
       "      <td>496</td>\n",
       "    </tr>\n",
       "    <tr>\n",
       "      <th>New China Life Insurance</th>\n",
       "      <td>China</td>\n",
       "      <td>497</td>\n",
       "    </tr>\n",
       "    <tr>\n",
       "      <th>Wm. Morrison Supermarkets</th>\n",
       "      <td>Britain</td>\n",
       "      <td>498</td>\n",
       "    </tr>\n",
       "    <tr>\n",
       "      <th>TUI</th>\n",
       "      <td>Germany</td>\n",
       "      <td>499</td>\n",
       "    </tr>\n",
       "    <tr>\n",
       "      <th>AutoNation</th>\n",
       "      <td>USA</td>\n",
       "      <td>500</td>\n",
       "    </tr>\n",
       "  </tbody>\n",
       "</table>\n",
       "<p>500 rows × 2 columns</p>\n",
       "</div>"
      ],
      "text/plain": [
       "                                country  rank\n",
       "Walmart                             USA     1\n",
       "State Grid                        China     2\n",
       "Sinopec Group                     China     3\n",
       "China National Petroleum          China     4\n",
       "Toyota Motor                      Japan     5\n",
       "...                                 ...   ...\n",
       "Teva Pharmaceutical Industries   Israel   496\n",
       "New China Life Insurance          China   497\n",
       "Wm. Morrison Supermarkets       Britain   498\n",
       "TUI                             Germany   499\n",
       "AutoNation                          USA   500\n",
       "\n",
       "[500 rows x 2 columns]"
      ]
     },
     "execution_count": 22,
     "metadata": {},
     "output_type": "execute_result"
    }
   ],
   "source": [
    "#selecting more tan 1 columns from a df by label\n",
    "f500.loc[:,['country','rank']]"
   ]
  },
  {
   "cell_type": "code",
   "execution_count": 24,
   "id": "ed7425d0-daeb-42e7-8458-35a8d0061802",
   "metadata": {
    "tags": []
   },
   "outputs": [
    {
     "data": {
      "text/html": [
       "<div>\n",
       "<style scoped>\n",
       "    .dataframe tbody tr th:only-of-type {\n",
       "        vertical-align: middle;\n",
       "    }\n",
       "\n",
       "    .dataframe tbody tr th {\n",
       "        vertical-align: top;\n",
       "    }\n",
       "\n",
       "    .dataframe thead th {\n",
       "        text-align: right;\n",
       "    }\n",
       "</style>\n",
       "<table border=\"1\" class=\"dataframe\">\n",
       "  <thead>\n",
       "    <tr style=\"text-align: right;\">\n",
       "      <th></th>\n",
       "      <th>country</th>\n",
       "      <th>rank</th>\n",
       "    </tr>\n",
       "  </thead>\n",
       "  <tbody>\n",
       "    <tr>\n",
       "      <th>Walmart</th>\n",
       "      <td>USA</td>\n",
       "      <td>1</td>\n",
       "    </tr>\n",
       "    <tr>\n",
       "      <th>State Grid</th>\n",
       "      <td>China</td>\n",
       "      <td>2</td>\n",
       "    </tr>\n",
       "    <tr>\n",
       "      <th>Sinopec Group</th>\n",
       "      <td>China</td>\n",
       "      <td>3</td>\n",
       "    </tr>\n",
       "    <tr>\n",
       "      <th>China National Petroleum</th>\n",
       "      <td>China</td>\n",
       "      <td>4</td>\n",
       "    </tr>\n",
       "    <tr>\n",
       "      <th>Toyota Motor</th>\n",
       "      <td>Japan</td>\n",
       "      <td>5</td>\n",
       "    </tr>\n",
       "    <tr>\n",
       "      <th>...</th>\n",
       "      <td>...</td>\n",
       "      <td>...</td>\n",
       "    </tr>\n",
       "    <tr>\n",
       "      <th>Teva Pharmaceutical Industries</th>\n",
       "      <td>Israel</td>\n",
       "      <td>496</td>\n",
       "    </tr>\n",
       "    <tr>\n",
       "      <th>New China Life Insurance</th>\n",
       "      <td>China</td>\n",
       "      <td>497</td>\n",
       "    </tr>\n",
       "    <tr>\n",
       "      <th>Wm. Morrison Supermarkets</th>\n",
       "      <td>Britain</td>\n",
       "      <td>498</td>\n",
       "    </tr>\n",
       "    <tr>\n",
       "      <th>TUI</th>\n",
       "      <td>Germany</td>\n",
       "      <td>499</td>\n",
       "    </tr>\n",
       "    <tr>\n",
       "      <th>AutoNation</th>\n",
       "      <td>USA</td>\n",
       "      <td>500</td>\n",
       "    </tr>\n",
       "  </tbody>\n",
       "</table>\n",
       "<p>500 rows × 2 columns</p>\n",
       "</div>"
      ],
      "text/plain": [
       "                                country  rank\n",
       "Walmart                             USA     1\n",
       "State Grid                        China     2\n",
       "Sinopec Group                     China     3\n",
       "China National Petroleum          China     4\n",
       "Toyota Motor                      Japan     5\n",
       "...                                 ...   ...\n",
       "Teva Pharmaceutical Industries   Israel   496\n",
       "New China Life Insurance          China   497\n",
       "Wm. Morrison Supermarkets       Britain   498\n",
       "TUI                             Germany   499\n",
       "AutoNation                          USA   500\n",
       "\n",
       "[500 rows x 2 columns]"
      ]
     },
     "execution_count": 24,
     "metadata": {},
     "output_type": "execute_result"
    }
   ],
   "source": [
    "f500[['country','rank']]"
   ]
  },
  {
   "cell_type": "code",
   "execution_count": 26,
   "id": "e912fde7-f90f-4852-b26f-ccb4f7916142",
   "metadata": {
    "tags": []
   },
   "outputs": [
    {
     "data": {
      "text/html": [
       "<div>\n",
       "<style scoped>\n",
       "    .dataframe tbody tr th:only-of-type {\n",
       "        vertical-align: middle;\n",
       "    }\n",
       "\n",
       "    .dataframe tbody tr th {\n",
       "        vertical-align: top;\n",
       "    }\n",
       "\n",
       "    .dataframe thead th {\n",
       "        text-align: right;\n",
       "    }\n",
       "</style>\n",
       "<table border=\"1\" class=\"dataframe\">\n",
       "  <thead>\n",
       "    <tr style=\"text-align: right;\">\n",
       "      <th></th>\n",
       "      <th>rank</th>\n",
       "      <th>revenues</th>\n",
       "      <th>revenue_change</th>\n",
       "      <th>profits</th>\n",
       "    </tr>\n",
       "  </thead>\n",
       "  <tbody>\n",
       "    <tr>\n",
       "      <th>Walmart</th>\n",
       "      <td>1</td>\n",
       "      <td>485873</td>\n",
       "      <td>0.8</td>\n",
       "      <td>13643.0</td>\n",
       "    </tr>\n",
       "    <tr>\n",
       "      <th>State Grid</th>\n",
       "      <td>2</td>\n",
       "      <td>315199</td>\n",
       "      <td>-4.4</td>\n",
       "      <td>9571.3</td>\n",
       "    </tr>\n",
       "    <tr>\n",
       "      <th>Sinopec Group</th>\n",
       "      <td>3</td>\n",
       "      <td>267518</td>\n",
       "      <td>-9.1</td>\n",
       "      <td>1257.9</td>\n",
       "    </tr>\n",
       "    <tr>\n",
       "      <th>China National Petroleum</th>\n",
       "      <td>4</td>\n",
       "      <td>262573</td>\n",
       "      <td>-12.3</td>\n",
       "      <td>1867.5</td>\n",
       "    </tr>\n",
       "    <tr>\n",
       "      <th>Toyota Motor</th>\n",
       "      <td>5</td>\n",
       "      <td>254694</td>\n",
       "      <td>7.7</td>\n",
       "      <td>16899.3</td>\n",
       "    </tr>\n",
       "    <tr>\n",
       "      <th>...</th>\n",
       "      <td>...</td>\n",
       "      <td>...</td>\n",
       "      <td>...</td>\n",
       "      <td>...</td>\n",
       "    </tr>\n",
       "    <tr>\n",
       "      <th>Teva Pharmaceutical Industries</th>\n",
       "      <td>496</td>\n",
       "      <td>21903</td>\n",
       "      <td>11.5</td>\n",
       "      <td>329.0</td>\n",
       "    </tr>\n",
       "    <tr>\n",
       "      <th>New China Life Insurance</th>\n",
       "      <td>497</td>\n",
       "      <td>21796</td>\n",
       "      <td>-13.3</td>\n",
       "      <td>743.9</td>\n",
       "    </tr>\n",
       "    <tr>\n",
       "      <th>Wm. Morrison Supermarkets</th>\n",
       "      <td>498</td>\n",
       "      <td>21741</td>\n",
       "      <td>-11.3</td>\n",
       "      <td>406.4</td>\n",
       "    </tr>\n",
       "    <tr>\n",
       "      <th>TUI</th>\n",
       "      <td>499</td>\n",
       "      <td>21655</td>\n",
       "      <td>-5.5</td>\n",
       "      <td>1151.7</td>\n",
       "    </tr>\n",
       "    <tr>\n",
       "      <th>AutoNation</th>\n",
       "      <td>500</td>\n",
       "      <td>21609</td>\n",
       "      <td>3.6</td>\n",
       "      <td>430.5</td>\n",
       "    </tr>\n",
       "  </tbody>\n",
       "</table>\n",
       "<p>500 rows × 4 columns</p>\n",
       "</div>"
      ],
      "text/plain": [
       "                                rank  revenues  revenue_change  profits\n",
       "Walmart                            1    485873             0.8  13643.0\n",
       "State Grid                         2    315199            -4.4   9571.3\n",
       "Sinopec Group                      3    267518            -9.1   1257.9\n",
       "China National Petroleum           4    262573           -12.3   1867.5\n",
       "Toyota Motor                       5    254694             7.7  16899.3\n",
       "...                              ...       ...             ...      ...\n",
       "Teva Pharmaceutical Industries   496     21903            11.5    329.0\n",
       "New China Life Insurance         497     21796           -13.3    743.9\n",
       "Wm. Morrison Supermarkets        498     21741           -11.3    406.4\n",
       "TUI                              499     21655            -5.5   1151.7\n",
       "AutoNation                       500     21609             3.6    430.5\n",
       "\n",
       "[500 rows x 4 columns]"
      ]
     },
     "execution_count": 26,
     "metadata": {},
     "output_type": "execute_result"
    }
   ],
   "source": [
    "#selecting a SLICE OBJECT\n",
    "f500.loc[:,'rank':'profits']"
   ]
  },
  {
   "cell_type": "code",
   "execution_count": 32,
   "id": "d64d57d5-fd88-4413-8b1e-d567be4f2438",
   "metadata": {
    "tags": []
   },
   "outputs": [],
   "source": [
    "#task 3.3.6\n",
    "countries = f500.loc[:,'country'] #or countries= f500['country']"
   ]
  },
  {
   "cell_type": "code",
   "execution_count": 33,
   "id": "9f3895b3-9c37-4efd-90f8-efbbdf6d4ec9",
   "metadata": {
    "tags": []
   },
   "outputs": [
    {
     "name": "stdout",
     "output_type": "stream",
     "text": [
      "                                revenues  years_on_global_500_list\n",
      "Walmart                           485873                        23\n",
      "State Grid                        315199                        17\n",
      "Sinopec Group                     267518                        19\n",
      "China National Petroleum          262573                        17\n",
      "Toyota Motor                      254694                        23\n",
      "...                                  ...                       ...\n",
      "Teva Pharmaceutical Industries     21903                         1\n",
      "New China Life Insurance           21796                         2\n",
      "Wm. Morrison Supermarkets          21741                        13\n",
      "TUI                                21655                        23\n",
      "AutoNation                         21609                        12\n",
      "\n",
      "[500 rows x 2 columns]\n"
     ]
    }
   ],
   "source": [
    "revenues_years = f500[['revenues','years_on_global_500_list']]\n",
    "print(revenues_years)"
   ]
  },
  {
   "cell_type": "code",
   "execution_count": 31,
   "id": "4053707b-3cb0-4a89-b0ae-898a5cad5287",
   "metadata": {
    "tags": []
   },
   "outputs": [
    {
     "name": "stdout",
     "output_type": "stream",
     "text": [
      "                                                ceo  \\\n",
      "Walmart                         C. Douglas McMillon   \n",
      "State Grid                                  Kou Wei   \n",
      "Sinopec Group                             Wang Yupu   \n",
      "China National Petroleum              Zhang Jianhua   \n",
      "Toyota Motor                            Akio Toyoda   \n",
      "...                                             ...   \n",
      "Teva Pharmaceutical Industries    Yitzhak Peterburg   \n",
      "New China Life Insurance                   Wan Feng   \n",
      "Wm. Morrison Supermarkets            David T. Potts   \n",
      "TUI                               Friedrich Joussen   \n",
      "AutoNation                       Michael J. Jackson   \n",
      "\n",
      "                                                       industry  \\\n",
      "Walmart                                   General Merchandisers   \n",
      "State Grid                                            Utilities   \n",
      "Sinopec Group                                Petroleum Refining   \n",
      "China National Petroleum                     Petroleum Refining   \n",
      "Toyota Motor                           Motor Vehicles and Parts   \n",
      "...                                                         ...   \n",
      "Teva Pharmaceutical Industries                  Pharmaceuticals   \n",
      "New China Life Insurance        Insurance: Life, Health (stock)   \n",
      "Wm. Morrison Supermarkets                  Food and Drug Stores   \n",
      "TUI                                             Travel Services   \n",
      "AutoNation                                  Specialty Retailers   \n",
      "\n",
      "                                                sector  \n",
      "Walmart                                      Retailing  \n",
      "State Grid                                      Energy  \n",
      "Sinopec Group                                   Energy  \n",
      "China National Petroleum                        Energy  \n",
      "Toyota Motor                    Motor Vehicles & Parts  \n",
      "...                                                ...  \n",
      "Teva Pharmaceutical Industries             Health Care  \n",
      "New China Life Insurance                    Financials  \n",
      "Wm. Morrison Supermarkets           Food & Drug Stores  \n",
      "TUI                                  Business Services  \n",
      "AutoNation                                   Retailing  \n",
      "\n",
      "[500 rows x 3 columns]\n"
     ]
    }
   ],
   "source": [
    "ceo_to_sector = f500.loc[:,'ceo':'sector']\n",
    "print(ceo_to_sector)"
   ]
  },
  {
   "cell_type": "code",
   "execution_count": 36,
   "id": "59a66f24-77ef-444e-a3a2-be79aba2914f",
   "metadata": {
    "tags": []
   },
   "outputs": [
    {
     "name": "stdout",
     "output_type": "stream",
     "text": [
      "<class 'pandas.core.series.Series'>\n",
      "rank                                             3\n",
      "revenues                                    267518\n",
      "revenue_change                                -9.1\n",
      "profits                                     1257.9\n",
      "assets                                      310726\n",
      "profit_change                                -65.0\n",
      "ceo                                      Wang Yupu\n",
      "industry                        Petroleum Refining\n",
      "sector                                      Energy\n",
      "previous_rank                                    4\n",
      "country                                      China\n",
      "hq_location                         Beijing, China\n",
      "website                     http://www.sinopec.com\n",
      "years_on_global_500_list                        19\n",
      "employees                                   713288\n",
      "total_stockholder_equity                    106523\n",
      "Name: Sinopec Group, dtype: object\n"
     ]
    }
   ],
   "source": [
    "#selecting a single row from a df\n",
    "single_row = f500.loc['Sinopec Group']\n",
    "print(type(single_row))\n",
    "print(single_row)"
   ]
  },
  {
   "cell_type": "code",
   "execution_count": 37,
   "id": "06f317a0-9a8e-4f34-b35f-64c3e23772b8",
   "metadata": {
    "tags": []
   },
   "outputs": [
    {
     "name": "stdout",
     "output_type": "stream",
     "text": [
      "<class 'pandas.core.frame.DataFrame'>\n",
      "              rank  revenues  revenue_change  profits  assets  profit_change  \\\n",
      "Toyota Motor     5    254694             7.7  16899.3  437575          -12.3   \n",
      "Walmart          1    485873             0.8  13643.0  198825           -7.2   \n",
      "\n",
      "                              ceo                  industry  \\\n",
      "Toyota Motor          Akio Toyoda  Motor Vehicles and Parts   \n",
      "Walmart       C. Douglas McMillon     General Merchandisers   \n",
      "\n",
      "                              sector  previous_rank country      hq_location  \\\n",
      "Toyota Motor  Motor Vehicles & Parts              8   Japan    Toyota, Japan   \n",
      "Walmart                    Retailing              1     USA  Bentonville, AR   \n",
      "\n",
      "                                   website  years_on_global_500_list  \\\n",
      "Toyota Motor  http://www.toyota-global.com                        23   \n",
      "Walmart             http://www.walmart.com                        23   \n",
      "\n",
      "              employees  total_stockholder_equity  \n",
      "Toyota Motor     364445                    157210  \n",
      "Walmart         2300000                     77798  \n"
     ]
    }
   ],
   "source": [
    "#to select a list of rows\n",
    "list_rows = f500.loc[[\"Toyota Motor\", \"Walmart\"]]\n",
    "print(type(list_rows))\n",
    "print(list_rows)"
   ]
  },
  {
   "cell_type": "code",
   "execution_count": 38,
   "id": "2e442f69-0a6b-48df-89e2-5ac0ab19d67d",
   "metadata": {
    "tags": []
   },
   "outputs": [
    {
     "name": "stdout",
     "output_type": "stream",
     "text": [
      "<class 'pandas.core.frame.DataFrame'>\n",
      "                          rank  revenues  revenue_change  profits  assets  \\\n",
      "State Grid                   2    315199            -4.4   9571.3  489838   \n",
      "Sinopec Group                3    267518            -9.1   1257.9  310726   \n",
      "China National Petroleum     4    262573           -12.3   1867.5  585619   \n",
      "Toyota Motor                 5    254694             7.7  16899.3  437575   \n",
      "\n",
      "                          profit_change            ceo  \\\n",
      "State Grid                         -6.2        Kou Wei   \n",
      "Sinopec Group                     -65.0      Wang Yupu   \n",
      "China National Petroleum          -73.7  Zhang Jianhua   \n",
      "Toyota Motor                      -12.3    Akio Toyoda   \n",
      "\n",
      "                                          industry                  sector  \\\n",
      "State Grid                               Utilities                  Energy   \n",
      "Sinopec Group                   Petroleum Refining                  Energy   \n",
      "China National Petroleum        Petroleum Refining                  Energy   \n",
      "Toyota Motor              Motor Vehicles and Parts  Motor Vehicles & Parts   \n",
      "\n",
      "                          previous_rank country     hq_location  \\\n",
      "State Grid                            2   China  Beijing, China   \n",
      "Sinopec Group                         4   China  Beijing, China   \n",
      "China National Petroleum              3   China  Beijing, China   \n",
      "Toyota Motor                          8   Japan   Toyota, Japan   \n",
      "\n",
      "                                               website  \\\n",
      "State Grid                      http://www.sgcc.com.cn   \n",
      "Sinopec Group                   http://www.sinopec.com   \n",
      "China National Petroleum        http://www.cnpc.com.cn   \n",
      "Toyota Motor              http://www.toyota-global.com   \n",
      "\n",
      "                          years_on_global_500_list  employees  \\\n",
      "State Grid                                      17     926067   \n",
      "Sinopec Group                                   19     713288   \n",
      "China National Petroleum                        17    1512048   \n",
      "Toyota Motor                                    23     364445   \n",
      "\n",
      "                          total_stockholder_equity  \n",
      "State Grid                                  209456  \n",
      "Sinopec Group                               106523  \n",
      "China National Petroleum                    301893  \n",
      "Toyota Motor                                157210  \n"
     ]
    }
   ],
   "source": [
    "#to select slice objects ROWS\n",
    "slice_rows = f500[\"State Grid\":\"Toyota Motor\"]\n",
    "print(type(slice_rows))\n",
    "print(slice_rows)"
   ]
  },
  {
   "cell_type": "code",
   "execution_count": 39,
   "id": "cb51b390-8054-45ce-97c6-12f5998a5f94",
   "metadata": {
    "tags": []
   },
   "outputs": [],
   "source": [
    "#task 3.3.7\n",
    "toyota = f500.loc[\"Toyota Motor\"]"
   ]
  },
  {
   "cell_type": "code",
   "execution_count": 41,
   "id": "34fd092d-7a52-40aa-b0cd-df239e2776ce",
   "metadata": {
    "tags": []
   },
   "outputs": [],
   "source": [
    "drink_companies = f500.loc[['Anheuser-Busch InBev','Coca-Cola','Heineken Holding']]"
   ]
  },
  {
   "cell_type": "code",
   "execution_count": 42,
   "id": "fb3cbd2d-0c7c-4080-a8d3-19727ef0b3dc",
   "metadata": {
    "tags": []
   },
   "outputs": [],
   "source": [
    "middle_companies = f500.loc['Tata Motors':'Nationwide', 'rank':'country']"
   ]
  },
  {
   "cell_type": "code",
   "execution_count": 43,
   "id": "cc010ec6-0780-4e54-ad09-f84f82c902c3",
   "metadata": {
    "tags": []
   },
   "outputs": [
    {
     "name": "stdout",
     "output_type": "stream",
     "text": [
      "<class 'pandas.core.series.Series'>\n"
     ]
    }
   ],
   "source": [
    "#value counts method\n",
    "sectors = f500[\"sector\"]\n",
    "print(type(sectors))"
   ]
  },
  {
   "cell_type": "code",
   "execution_count": 44,
   "id": "fd0e9c04-47ba-4565-882a-91e14c8605b2",
   "metadata": {
    "tags": []
   },
   "outputs": [
    {
     "name": "stdout",
     "output_type": "stream",
     "text": [
      "sector\n",
      "Financials                       118\n",
      "Energy                            80\n",
      "Technology                        44\n",
      "Motor Vehicles & Parts            34\n",
      "Wholesalers                       28\n",
      "Health Care                       27\n",
      "Food & Drug Stores                20\n",
      "Transportation                    19\n",
      "Telecommunications                18\n",
      "Retailing                         17\n",
      "Food, Beverages & Tobacco         16\n",
      "Materials                         16\n",
      "Industrials                       15\n",
      "Aerospace & Defense               14\n",
      "Engineering & Construction        13\n",
      "Chemicals                          7\n",
      "Household Products                 3\n",
      "Media                              3\n",
      "Hotels, Restaurants & Leisure      3\n",
      "Business Services                  3\n",
      "Apparel                            2\n",
      "Name: count, dtype: int64\n"
     ]
    }
   ],
   "source": [
    "sectors_value_counts = sectors.value_counts()\n",
    "print(sectors_value_counts)"
   ]
  },
  {
   "cell_type": "code",
   "execution_count": 45,
   "id": "7447452e-13e9-4ae3-8244-8a136927601f",
   "metadata": {
    "tags": []
   },
   "outputs": [
    {
     "name": "stdout",
     "output_type": "stream",
     "text": [
      "<class 'pandas.core.frame.DataFrame'>\n"
     ]
    }
   ],
   "source": [
    "sectors_industries = f500[[\"sector\", \"industry\"]]\n",
    "print(type(sectors_industries))"
   ]
  },
  {
   "cell_type": "code",
   "execution_count": 46,
   "id": "a024b3b6-d960-40e4-a694-204e3e64644d",
   "metadata": {
    "tags": []
   },
   "outputs": [
    {
     "name": "stdout",
     "output_type": "stream",
     "text": [
      "sector                         industry                                      \n",
      "Financials                     Banks: Commercial and Savings                     51\n",
      "Motor Vehicles & Parts         Motor Vehicles and Parts                          34\n",
      "Energy                         Petroleum Refining                                28\n",
      "Financials                     Insurance: Life, Health (stock)                   24\n",
      "Food & Drug Stores             Food and Drug Stores                              20\n",
      "Energy                         Mining, Crude-Oil Production                      18\n",
      "Financials                     Insurance: Property and Casualty (Stock)          18\n",
      "Telecommunications             Telecommunications                                18\n",
      "Energy                         Utilities                                         18\n",
      "Wholesalers                    Trading                                           15\n",
      "Health Care                    Pharmaceuticals                                   15\n",
      "Aerospace & Defense            Aerospace and Defense                             14\n",
      "Engineering & Construction     Engineering, Construction                         13\n",
      "Technology                     Electronics, Electrical Equip.                    13\n",
      "Energy                         Energy                                            12\n",
      "Materials                      Metals                                            12\n",
      "Retailing                      Specialty Retailers                               10\n",
      "Industrials                    Industrial Machinery                              10\n",
      "Financials                     Insurance: Life, Health (Mutual)                   9\n",
      "Technology                     Computers, Office Equipment                        8\n",
      "Transportation                 Airlines                                           8\n",
      "Financials                     Diversified Financials                             8\n",
      "Food, Beverages & Tobacco      Food Production                                    7\n",
      "Retailing                      General Merchandisers                              7\n",
      "Chemicals                      Chemicals                                          7\n",
      "Technology                     Internet Services and Retailing                    6\n",
      "Transportation                 Mail, Package, and Freight Delivery                6\n",
      "Wholesalers                    Wholesalers: Health Care                           6\n",
      "Financials                     Real estate                                        6\n",
      "Health Care                    Health Care: Insurance and Managed Care            6\n",
      "Technology                     Semiconductors and Other Electronic Components     5\n",
      "                               Information Technology Services                    5\n",
      "Food, Beverages & Tobacco      Food Consumer Products                             5\n",
      "Materials                      Building Materials, Glass                          4\n",
      "Technology                     Network and Other Communications Equipment         4\n",
      "                               Computer Software                                  3\n",
      "Wholesalers                    Wholesalers: Food and Grocery                      3\n",
      "                               Wholesalers: Electronics and Office Equipment      3\n",
      "Transportation                 Railroads                                          3\n",
      "Energy                         Pipelines                                          3\n",
      "Food, Beverages & Tobacco      Beverages                                          3\n",
      "Hotels, Restaurants & Leisure  Food Services                                      3\n",
      "Media                          Entertainment                                      3\n",
      "Household Products             Household and Personal Products                    3\n",
      "Apparel                        Apparel                                            2\n",
      "Financials                     Insurance: Property and Casualty (Mutual)          2\n",
      "Health Care                    Health Care: Medical Facilities                    2\n",
      "Industrials                    Textiles                                           2\n",
      "Health Care                    Health Care: Pharmacy and Other Services           2\n",
      "Transportation                 Shipping                                           2\n",
      "Business Services              Temporary Help                                     2\n",
      "Industrials                    Construction and Farm Machinery                    2\n",
      "Health Care                    Medical Products and Equipment                     2\n",
      "Food, Beverages & Tobacco      Tobacco                                            1\n",
      "Industrials                    Miscellaneous                                      1\n",
      "Energy                         Oil & Gas Equipment Services                       1\n",
      "Business Services              Travel Services                                    1\n",
      "Wholesalers                    Wholesalers: Diversified                           1\n",
      "Name: count, dtype: int64\n"
     ]
    }
   ],
   "source": [
    "si_value_counts = sectors_industries.value_counts()\n",
    "print(si_value_counts)"
   ]
  },
  {
   "cell_type": "code",
   "execution_count": 47,
   "id": "fe2b58d3-490e-46d9-96d8-fb0dc7cd80cc",
   "metadata": {
    "tags": []
   },
   "outputs": [],
   "source": [
    "#task 3.3.8\n",
    "countries = f500['country']\n",
    "country_counts = countries.value_counts()"
   ]
  },
  {
   "cell_type": "code",
   "execution_count": null,
   "id": "e8ad90fc-dc4c-41bf-8989-63e430e6b1f6",
   "metadata": {},
   "outputs": [],
   "source": []
  }
 ],
 "metadata": {
  "kernelspec": {
   "display_name": "Python 3 (ipykernel)",
   "language": "python",
   "name": "python3"
  },
  "language_info": {
   "codemirror_mode": {
    "name": "ipython",
    "version": 3
   },
   "file_extension": ".py",
   "mimetype": "text/x-python",
   "name": "python",
   "nbconvert_exporter": "python",
   "pygments_lexer": "ipython3",
   "version": "3.11.5"
  }
 },
 "nbformat": 4,
 "nbformat_minor": 5
}
