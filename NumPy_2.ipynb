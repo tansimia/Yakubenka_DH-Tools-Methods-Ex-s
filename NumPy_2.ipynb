{
 "cells": [
  {
   "cell_type": "code",
   "execution_count": 1,
   "id": "cc7c678e-c213-4edb-b560-602149661d36",
   "metadata": {
    "tags": []
   },
   "outputs": [],
   "source": [
    "#task 3.2.1\n",
    "import numpy as np"
   ]
  },
  {
   "cell_type": "code",
   "execution_count": null,
   "id": "a1c8d41c-bee7-4807-bfee-7859af731e8d",
   "metadata": {
    "tags": []
   },
   "outputs": [],
   "source": [
    "taxi = np.genfromtxt('../../../Data/csv/nyc_taxis.csv', delimiter = ',')"
   ]
  },
  {
   "cell_type": "code",
   "execution_count": null,
   "id": "c521afec-f75a-49e1-b6f4-9c8049849279",
   "metadata": {},
   "outputs": [],
   "source": [
    "taxi_shape = taxi.shape\n",
    "print(taxi_shape)"
   ]
  },
  {
   "cell_type": "code",
   "execution_count": null,
   "id": "c6165c0a-aa6f-4d64-8dbd-8a6702b63d9e",
   "metadata": {},
   "outputs": [],
   "source": [
    "#task 3.2.2\n",
    "import numpy as np\n",
    "taxi = np.genfromtxt('../../../Data/csv/nyc_taxis.csv', delimiter = ',', skip_header = True)\n",
    "taxi_shape = taxi.shape"
   ]
  },
  {
   "cell_type": "code",
   "execution_count": null,
   "id": "63c6f147-a85b-4fff-a454-31967c90a420",
   "metadata": {},
   "outputs": [],
   "source": [
    "#task 3.2.4\n",
    "pickup_month = taxi[:,1]\n",
    "february_bool = pickup_month == 2\n",
    "february = pickup_month[february_bool]\n",
    "february_rides = february.shape[0]\n",
    "print(february_rides)"
   ]
  },
  {
   "cell_type": "code",
   "execution_count": null,
   "id": "36602094-9345-423b-80be-201f9198c0d2",
   "metadata": {},
   "outputs": [],
   "source": [
    "#task 3.2.5\n",
    "tip_amount = taxi[:,12]\n",
    "tip_bool = tip_amount > 50\n",
    "top_tips = taxi[tip_bool, 5: 14]\n",
    "print(top_tips)"
   ]
  },
  {
   "cell_type": "code",
   "execution_count": null,
   "id": "8a202416-c159-45d1-a334-3164cf00380a",
   "metadata": {},
   "outputs": [],
   "source": []
  },
  {
   "cell_type": "code",
   "execution_count": null,
   "id": "4c95aa08-d326-4f2b-8aaa-6df6c6e4d3d4",
   "metadata": {},
   "outputs": [],
   "source": []
  }
 ],
 "metadata": {
  "kernelspec": {
   "display_name": "Python 3 (ipykernel)",
   "language": "python",
   "name": "python3"
  },
  "language_info": {
   "codemirror_mode": {
    "name": "ipython",
    "version": 3
   },
   "file_extension": ".py",
   "mimetype": "text/x-python",
   "name": "python",
   "nbconvert_exporter": "python",
   "pygments_lexer": "ipython3",
   "version": "3.11.5"
  }
 },
 "nbformat": 4,
 "nbformat_minor": 5
}
