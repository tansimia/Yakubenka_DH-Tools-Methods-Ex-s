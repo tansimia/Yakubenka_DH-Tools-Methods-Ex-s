{
 "cells": [
  {
   "cell_type": "code",
   "execution_count": 1,
   "id": "f6a88ee2-d2a1-41b5-b5bb-5e13cbc0946c",
   "metadata": {
    "tags": []
   },
   "outputs": [],
   "source": [
    "#the chosen Dataset presents information on the structure of movie theatres in Austria, where the data is shared among the Bundesländer (or states). \n",
    "#RQs: a)For the purposes of the assignment, I wanted to compare the structure of the movie theatres (Kinosäle) amovng the Austrian states.\n",
    "#     b) compare the number of sitplaces in the given movie theatres .\n",
    "# This visualisation gives us,so to say, a picture of the development of entertainment in the sphere of cinema. Of course this information cannot be fully correct, \n",
    "#because we do not have any further data on the number of citizens, their age, etc.\n",
    "#In order to analyze the dataset that, I have to upload the file into the notebook (.read_csv)\n",
    "#Before uploading the file, I decided to import a few packages that will or could be useful"
   ]
  },
  {
   "cell_type": "code",
   "execution_count": 4,
   "id": "f2267bb5-5cbb-49b2-bf06-44d17a329fa5",
   "metadata": {
    "tags": []
   },
   "outputs": [],
   "source": [
    "#tabula dataset, importing packages and the dataset\n",
    "#csv, etc\n",
    "import pandas as pd\n",
    "import matplotlib.pyplot as plt\n",
    "import seaborn as sns\n",
    "import numpy as np\n",
    "import geopandas as gpd\n",
    "import os\n",
    "dataset = pd.read_csv('C:/Users/tanja/OneDrive/Documents/GitHub/Struktur der Kinos.csv')"
   ]
  },
  {
   "cell_type": "code",
   "execution_count": 7,
   "id": "912cc42a-4c55-4ffe-a796-f7ab196b9208",
   "metadata": {
    "tags": []
   },
   "outputs": [
    {
     "name": "stdout",
     "output_type": "stream",
     "text": [
      "Requirement already satisfied: geopandas in c:\\users\\tanja\\appdata\\local\\anaconda3\\lib\\site-packages (0.14.1)\n",
      "Requirement already satisfied: fiona>=1.8.21 in c:\\users\\tanja\\appdata\\local\\anaconda3\\lib\\site-packages (from geopandas) (1.9.5)\n",
      "Requirement already satisfied: packaging in c:\\users\\tanja\\appdata\\local\\anaconda3\\lib\\site-packages (from geopandas) (23.1)\n",
      "Requirement already satisfied: pandas>=1.4.0 in c:\\users\\tanja\\appdata\\local\\anaconda3\\lib\\site-packages (from geopandas) (2.0.3)\n",
      "Requirement already satisfied: pyproj>=3.3.0 in c:\\users\\tanja\\appdata\\local\\anaconda3\\lib\\site-packages (from geopandas) (3.6.1)\n",
      "Requirement already satisfied: shapely>=1.8.0 in c:\\users\\tanja\\appdata\\local\\anaconda3\\lib\\site-packages (from geopandas) (2.0.2)\n",
      "Requirement already satisfied: attrs>=19.2.0 in c:\\users\\tanja\\appdata\\local\\anaconda3\\lib\\site-packages (from fiona>=1.8.21->geopandas) (22.1.0)\n",
      "Requirement already satisfied: certifi in c:\\users\\tanja\\appdata\\local\\anaconda3\\lib\\site-packages (from fiona>=1.8.21->geopandas) (2023.7.22)\n",
      "Requirement already satisfied: click~=8.0 in c:\\users\\tanja\\appdata\\local\\anaconda3\\lib\\site-packages (from fiona>=1.8.21->geopandas) (8.0.4)\n",
      "Requirement already satisfied: click-plugins>=1.0 in c:\\users\\tanja\\appdata\\local\\anaconda3\\lib\\site-packages (from fiona>=1.8.21->geopandas) (1.1.1)\n",
      "Requirement already satisfied: cligj>=0.5 in c:\\users\\tanja\\appdata\\local\\anaconda3\\lib\\site-packages (from fiona>=1.8.21->geopandas) (0.7.2)\n",
      "Requirement already satisfied: six in c:\\users\\tanja\\appdata\\local\\anaconda3\\lib\\site-packages (from fiona>=1.8.21->geopandas) (1.16.0)\n",
      "Requirement already satisfied: setuptools in c:\\users\\tanja\\appdata\\local\\anaconda3\\lib\\site-packages (from fiona>=1.8.21->geopandas) (68.0.0)\n",
      "Requirement already satisfied: python-dateutil>=2.8.2 in c:\\users\\tanja\\appdata\\local\\anaconda3\\lib\\site-packages (from pandas>=1.4.0->geopandas) (2.8.2)\n",
      "Requirement already satisfied: pytz>=2020.1 in c:\\users\\tanja\\appdata\\local\\anaconda3\\lib\\site-packages (from pandas>=1.4.0->geopandas) (2023.3.post1)\n",
      "Requirement already satisfied: tzdata>=2022.1 in c:\\users\\tanja\\appdata\\local\\anaconda3\\lib\\site-packages (from pandas>=1.4.0->geopandas) (2023.3)\n",
      "Requirement already satisfied: numpy>=1.21.0 in c:\\users\\tanja\\appdata\\local\\anaconda3\\lib\\site-packages (from pandas>=1.4.0->geopandas) (1.24.3)\n",
      "Requirement already satisfied: colorama in c:\\users\\tanja\\appdata\\local\\anaconda3\\lib\\site-packages (from click~=8.0->fiona>=1.8.21->geopandas) (0.4.6)\n"
     ]
    }
   ],
   "source": [
    "!pip install geopandas \n",
    "#was installed for training purposes only"
   ]
  },
  {
   "cell_type": "code",
   "execution_count": 8,
   "id": "66641ca9-deee-4d11-acdf-d55aa83aef37",
   "metadata": {
    "tags": []
   },
   "outputs": [],
   "source": [
    "#it is neseccary to \"clean\" the chosen dataset from various separators to make it readable \n",
    "#it is achieved using \"sep\" function as shown below\n",
    "dataset = pd.read_csv('C:/Users/tanja/OneDrive/Documents/GitHub/Struktur der Kinos.csv', sep = \";\")"
   ]
  },
  {
   "cell_type": "code",
   "execution_count": null,
   "id": "f5616242-2fce-4d72-ac35-b40bf9fc6641",
   "metadata": {},
   "outputs": [],
   "source": [
    "#exploration of the dataset using various methods such as .head(), .tail(),.info(), .describe()"
   ]
  },
  {
   "cell_type": "code",
   "execution_count": 9,
   "id": "37718942-616e-4b0d-8bc3-7d5c8b01af51",
   "metadata": {
    "tags": []
   },
   "outputs": [
    {
     "data": {
      "text/html": [
       "<div>\n",
       "<style scoped>\n",
       "    .dataframe tbody tr th:only-of-type {\n",
       "        vertical-align: middle;\n",
       "    }\n",
       "\n",
       "    .dataframe tbody tr th {\n",
       "        vertical-align: top;\n",
       "    }\n",
       "\n",
       "    .dataframe thead th {\n",
       "        text-align: right;\n",
       "    }\n",
       "</style>\n",
       "<table border=\"1\" class=\"dataframe\">\n",
       "  <thead>\n",
       "    <tr style=\"text-align: right;\">\n",
       "      <th></th>\n",
       "      <th>Bundesland</th>\n",
       "      <th>Kinos</th>\n",
       "      <th>Kinosäle</th>\n",
       "      <th>Sitzplätze</th>\n",
       "      <th>Sitzplätze pro Tausend der Bevölkerung</th>\n",
       "      <th>Kinobesuche, in Tausend</th>\n",
       "      <th>Kinobesuche pro Tausend der Bevölkerung</th>\n",
       "    </tr>\n",
       "  </thead>\n",
       "  <tbody>\n",
       "    <tr>\n",
       "      <th>0</th>\n",
       "      <td>Burgenland</td>\n",
       "      <td>5</td>\n",
       "      <td>20</td>\n",
       "      <td>2513</td>\n",
       "      <td>8,4</td>\n",
       "      <td>165,1</td>\n",
       "      <td>555</td>\n",
       "    </tr>\n",
       "    <tr>\n",
       "      <th>1</th>\n",
       "      <td>Kärnten</td>\n",
       "      <td>8</td>\n",
       "      <td>34</td>\n",
       "      <td>6351</td>\n",
       "      <td>11,2</td>\n",
       "      <td>279,9</td>\n",
       "      <td>496</td>\n",
       "    </tr>\n",
       "    <tr>\n",
       "      <th>2</th>\n",
       "      <td>Niederösterreich</td>\n",
       "      <td>26</td>\n",
       "      <td>98</td>\n",
       "      <td>13995</td>\n",
       "      <td>8,2</td>\n",
       "      <td>777,3</td>\n",
       "      <td>457</td>\n",
       "    </tr>\n",
       "    <tr>\n",
       "      <th>3</th>\n",
       "      <td>Oberösterreich</td>\n",
       "      <td>25</td>\n",
       "      <td>94</td>\n",
       "      <td>13342</td>\n",
       "      <td>8,9</td>\n",
       "      <td>938,4</td>\n",
       "      <td>623</td>\n",
       "    </tr>\n",
       "    <tr>\n",
       "      <th>4</th>\n",
       "      <td>Salzburg</td>\n",
       "      <td>9</td>\n",
       "      <td>29</td>\n",
       "      <td>4965</td>\n",
       "      <td>8,8</td>\n",
       "      <td>345,4</td>\n",
       "      <td>614</td>\n",
       "    </tr>\n",
       "  </tbody>\n",
       "</table>\n",
       "</div>"
      ],
      "text/plain": [
       "         Bundesland  Kinos  Kinosäle  Sitzplätze  \\\n",
       "0        Burgenland      5        20        2513   \n",
       "1           Kärnten      8        34        6351   \n",
       "2  Niederösterreich     26        98       13995   \n",
       "3    Oberösterreich     25        94       13342   \n",
       "4          Salzburg      9        29        4965   \n",
       "\n",
       "  Sitzplätze pro Tausend der Bevölkerung Kinobesuche, in Tausend  \\\n",
       "0                                    8,4                   165,1   \n",
       "1                                   11,2                   279,9   \n",
       "2                                    8,2                   777,3   \n",
       "3                                    8,9                   938,4   \n",
       "4                                    8,8                   345,4   \n",
       "\n",
       "   Kinobesuche pro Tausend der Bevölkerung  \n",
       "0                                      555  \n",
       "1                                      496  \n",
       "2                                      457  \n",
       "3                                      623  \n",
       "4                                      614  "
      ]
     },
     "execution_count": 9,
     "metadata": {},
     "output_type": "execute_result"
    }
   ],
   "source": [
    "#the .head() and .tail methods are helpful for quickly inspecting the beginning and end of the dataset, \n",
    "#giving a sense of the data's structure and contents.\n",
    "dataset.head() #shows the first 5 rows of the dataset"
   ]
  },
  {
   "cell_type": "code",
   "execution_count": 5,
   "id": "0a979d3f-813d-468a-971e-1c97ec564426",
   "metadata": {
    "tags": []
   },
   "outputs": [
    {
     "data": {
      "text/html": [
       "<div>\n",
       "<style scoped>\n",
       "    .dataframe tbody tr th:only-of-type {\n",
       "        vertical-align: middle;\n",
       "    }\n",
       "\n",
       "    .dataframe tbody tr th {\n",
       "        vertical-align: top;\n",
       "    }\n",
       "\n",
       "    .dataframe thead th {\n",
       "        text-align: right;\n",
       "    }\n",
       "</style>\n",
       "<table border=\"1\" class=\"dataframe\">\n",
       "  <thead>\n",
       "    <tr style=\"text-align: right;\">\n",
       "      <th></th>\n",
       "      <th>Bundesland</th>\n",
       "      <th>Kinos</th>\n",
       "      <th>Kinosäle</th>\n",
       "      <th>Sitzplätze</th>\n",
       "      <th>Sitzplätze pro Tausend der Bevölkerung</th>\n",
       "      <th>Kinobesuche, in Tausend</th>\n",
       "      <th>Kinobesuche pro Tausend der Bevölkerung</th>\n",
       "    </tr>\n",
       "  </thead>\n",
       "  <tbody>\n",
       "    <tr>\n",
       "      <th>5</th>\n",
       "      <td>Steiermark</td>\n",
       "      <td>19</td>\n",
       "      <td>80</td>\n",
       "      <td>12641</td>\n",
       "      <td>10,1</td>\n",
       "      <td>706,2</td>\n",
       "      <td>564</td>\n",
       "    </tr>\n",
       "    <tr>\n",
       "      <th>6</th>\n",
       "      <td>Tirol</td>\n",
       "      <td>11</td>\n",
       "      <td>46</td>\n",
       "      <td>7373</td>\n",
       "      <td>9,6</td>\n",
       "      <td>451,8</td>\n",
       "      <td>591</td>\n",
       "    </tr>\n",
       "    <tr>\n",
       "      <th>7</th>\n",
       "      <td>Vorarlberg</td>\n",
       "      <td>8</td>\n",
       "      <td>26</td>\n",
       "      <td>4347</td>\n",
       "      <td>10,8</td>\n",
       "      <td>255,2</td>\n",
       "      <td>635</td>\n",
       "    </tr>\n",
       "    <tr>\n",
       "      <th>8</th>\n",
       "      <td>Wien</td>\n",
       "      <td>27</td>\n",
       "      <td>138</td>\n",
       "      <td>24734</td>\n",
       "      <td>12,8</td>\n",
       "      <td>1375,6</td>\n",
       "      <td>712</td>\n",
       "    </tr>\n",
       "    <tr>\n",
       "      <th>9</th>\n",
       "      <td>Österreich</td>\n",
       "      <td>138</td>\n",
       "      <td>565</td>\n",
       "      <td>90261</td>\n",
       "      <td>10,1</td>\n",
       "      <td>5294,9</td>\n",
       "      <td>590</td>\n",
       "    </tr>\n",
       "  </tbody>\n",
       "</table>\n",
       "</div>"
      ],
      "text/plain": [
       "   Bundesland  Kinos  Kinosäle  Sitzplätze  \\\n",
       "5  Steiermark     19        80       12641   \n",
       "6       Tirol     11        46        7373   \n",
       "7  Vorarlberg      8        26        4347   \n",
       "8        Wien     27       138       24734   \n",
       "9  Österreich    138       565       90261   \n",
       "\n",
       "  Sitzplätze pro Tausend der Bevölkerung Kinobesuche, in Tausend  \\\n",
       "5                                   10,1                   706,2   \n",
       "6                                    9,6                   451,8   \n",
       "7                                   10,8                   255,2   \n",
       "8                                   12,8                  1375,6   \n",
       "9                                   10,1                  5294,9   \n",
       "\n",
       "   Kinobesuche pro Tausend der Bevölkerung  \n",
       "5                                      564  \n",
       "6                                      591  \n",
       "7                                      635  \n",
       "8                                      712  \n",
       "9                                      590  "
      ]
     },
     "execution_count": 5,
     "metadata": {},
     "output_type": "execute_result"
    }
   ],
   "source": [
    "dataset.tail() #shows the last 5 rows of the dataset"
   ]
  },
  {
   "cell_type": "code",
   "execution_count": 6,
   "id": "1fb51da1-cb7e-45b4-856e-07b777dfb77d",
   "metadata": {
    "tags": []
   },
   "outputs": [
    {
     "name": "stdout",
     "output_type": "stream",
     "text": [
      "<class 'pandas.core.frame.DataFrame'>\n",
      "RangeIndex: 10 entries, 0 to 9\n",
      "Data columns (total 7 columns):\n",
      " #   Column                                   Non-Null Count  Dtype \n",
      "---  ------                                   --------------  ----- \n",
      " 0   Bundesland                               10 non-null     object\n",
      " 1   Kinos                                    10 non-null     int64 \n",
      " 2   Kinosäle                                 10 non-null     int64 \n",
      " 3   Sitzplätze                               10 non-null     int64 \n",
      " 4   Sitzplätze pro Tausend der Bevölkerung   10 non-null     object\n",
      " 5   Kinobesuche, in Tausend                  10 non-null     object\n",
      " 6   Kinobesuche pro Tausend der Bevölkerung  10 non-null     int64 \n",
      "dtypes: int64(4), object(3)\n",
      "memory usage: 692.0+ bytes\n"
     ]
    }
   ],
   "source": [
    "#This method is useful for quickly understanding the structure of the dataset and identifying any missing values or inconsistencies\n",
    "dataset.info() #explore, types of the data"
   ]
  },
  {
   "cell_type": "code",
   "execution_count": 7,
   "id": "3ed80e21-1631-4f95-aec2-6b395f3f1cbf",
   "metadata": {
    "tags": []
   },
   "outputs": [
    {
     "name": "stdout",
     "output_type": "stream",
     "text": [
      "         Bundesland  Kinos  Kinosäle  Sitzplätze  \\\n",
      "0        Burgenland      5        20        2513   \n",
      "1           Kärnten      8        34        6351   \n",
      "2  Niederösterreich     26        98       13995   \n",
      "3    Oberösterreich     25        94       13342   \n",
      "4          Salzburg      9        29        4965   \n",
      "5        Steiermark     19        80       12641   \n",
      "6             Tirol     11        46        7373   \n",
      "7        Vorarlberg      8        26        4347   \n",
      "8              Wien     27       138       24734   \n",
      "9        Österreich    138       565       90261   \n",
      "\n",
      "  Sitzplätze pro Tausend der Bevölkerung Kinobesuche, in Tausend  \\\n",
      "0                                    8,4                   165,1   \n",
      "1                                   11,2                   279,9   \n",
      "2                                    8,2                   777,3   \n",
      "3                                    8,9                   938,4   \n",
      "4                                    8,8                   345,4   \n",
      "5                                   10,1                   706,2   \n",
      "6                                    9,6                   451,8   \n",
      "7                                   10,8                   255,2   \n",
      "8                                   12,8                  1375,6   \n",
      "9                                   10,1                  5294,9   \n",
      "\n",
      "   Kinobesuche pro Tausend der Bevölkerung  \n",
      "0                                      555  \n",
      "1                                      496  \n",
      "2                                      457  \n",
      "3                                      623  \n",
      "4                                      614  \n",
      "5                                      564  \n",
      "6                                      591  \n",
      "7                                      635  \n",
      "8                                      712  \n",
      "9                                      590  \n"
     ]
    }
   ],
   "source": [
    "#print statement displays the ntire dataframe\n",
    "print(dataset)"
   ]
  },
  {
   "cell_type": "code",
   "execution_count": 8,
   "id": "8067c14a-ec0f-4a2e-ac29-aeaaef0ec9e7",
   "metadata": {
    "tags": []
   },
   "outputs": [
    {
     "data": {
      "text/html": [
       "<div>\n",
       "<style scoped>\n",
       "    .dataframe tbody tr th:only-of-type {\n",
       "        vertical-align: middle;\n",
       "    }\n",
       "\n",
       "    .dataframe tbody tr th {\n",
       "        vertical-align: top;\n",
       "    }\n",
       "\n",
       "    .dataframe thead th {\n",
       "        text-align: right;\n",
       "    }\n",
       "</style>\n",
       "<table border=\"1\" class=\"dataframe\">\n",
       "  <thead>\n",
       "    <tr style=\"text-align: right;\">\n",
       "      <th></th>\n",
       "      <th>Kinos</th>\n",
       "      <th>Kinosäle</th>\n",
       "      <th>Sitzplätze</th>\n",
       "      <th>Kinobesuche pro Tausend der Bevölkerung</th>\n",
       "    </tr>\n",
       "  </thead>\n",
       "  <tbody>\n",
       "    <tr>\n",
       "      <th>count</th>\n",
       "      <td>10.00000</td>\n",
       "      <td>10.000000</td>\n",
       "      <td>10.000000</td>\n",
       "      <td>10.000000</td>\n",
       "    </tr>\n",
       "    <tr>\n",
       "      <th>mean</th>\n",
       "      <td>27.60000</td>\n",
       "      <td>113.000000</td>\n",
       "      <td>18052.200000</td>\n",
       "      <td>583.700000</td>\n",
       "    </tr>\n",
       "    <tr>\n",
       "      <th>std</th>\n",
       "      <td>39.68263</td>\n",
       "      <td>163.506031</td>\n",
       "      <td>26200.556889</td>\n",
       "      <td>71.959943</td>\n",
       "    </tr>\n",
       "    <tr>\n",
       "      <th>min</th>\n",
       "      <td>5.00000</td>\n",
       "      <td>20.000000</td>\n",
       "      <td>2513.000000</td>\n",
       "      <td>457.000000</td>\n",
       "    </tr>\n",
       "    <tr>\n",
       "      <th>25%</th>\n",
       "      <td>8.25000</td>\n",
       "      <td>30.250000</td>\n",
       "      <td>5311.500000</td>\n",
       "      <td>557.250000</td>\n",
       "    </tr>\n",
       "    <tr>\n",
       "      <th>50%</th>\n",
       "      <td>15.00000</td>\n",
       "      <td>63.000000</td>\n",
       "      <td>10007.000000</td>\n",
       "      <td>590.500000</td>\n",
       "    </tr>\n",
       "    <tr>\n",
       "      <th>75%</th>\n",
       "      <td>25.75000</td>\n",
       "      <td>97.000000</td>\n",
       "      <td>13831.750000</td>\n",
       "      <td>620.750000</td>\n",
       "    </tr>\n",
       "    <tr>\n",
       "      <th>max</th>\n",
       "      <td>138.00000</td>\n",
       "      <td>565.000000</td>\n",
       "      <td>90261.000000</td>\n",
       "      <td>712.000000</td>\n",
       "    </tr>\n",
       "  </tbody>\n",
       "</table>\n",
       "</div>"
      ],
      "text/plain": [
       "           Kinos    Kinosäle    Sitzplätze  \\\n",
       "count   10.00000   10.000000     10.000000   \n",
       "mean    27.60000  113.000000  18052.200000   \n",
       "std     39.68263  163.506031  26200.556889   \n",
       "min      5.00000   20.000000   2513.000000   \n",
       "25%      8.25000   30.250000   5311.500000   \n",
       "50%     15.00000   63.000000  10007.000000   \n",
       "75%     25.75000   97.000000  13831.750000   \n",
       "max    138.00000  565.000000  90261.000000   \n",
       "\n",
       "       Kinobesuche pro Tausend der Bevölkerung  \n",
       "count                                10.000000  \n",
       "mean                                583.700000  \n",
       "std                                  71.959943  \n",
       "min                                 457.000000  \n",
       "25%                                 557.250000  \n",
       "50%                                 590.500000  \n",
       "75%                                 620.750000  \n",
       "max                                 712.000000  "
      ]
     },
     "execution_count": 8,
     "metadata": {},
     "output_type": "execute_result"
    }
   ],
   "source": [
    "dataset.describe()\n",
    "#These summary statistics provide insights into the central tendency, variability, and distribution of the four variables across the dataset."
   ]
  },
  {
   "cell_type": "code",
   "execution_count": 9,
   "id": "bfceb7fb-fa82-4d56-be0c-36458ea608c4",
   "metadata": {
    "tags": []
   },
   "outputs": [
    {
     "name": "stderr",
     "output_type": "stream",
     "text": [
      "C:\\Users\\tanja\\AppData\\Local\\anaconda3\\Lib\\site-packages\\seaborn\\axisgrid.py:118: UserWarning: The figure layout has changed to tight\n",
      "  self._figure.tight_layout(*args, **kwargs)\n"
     ]
    },
    {
     "data": {
      "image/png": "[encoded data removed]",
      "text/plain": [
       "<Figure size 600x600 with 1 Axes>"
      ]
     },
     "metadata": {},
     "output_type": "display_data"
    }
   ],
   "source": [
    "#visualisation of the halls in the movie thetres in each state of Austria and the whole country for comparison. \n",
    "#we can see the difference better due to the illustration using bar chart (+ the total in the whole country)\n",
    "g = sns.catplot(\n",
    "    data=dataset, kind=\"bar\",\n",
    "    x=\"Kinosäle\", y=\"Bundesland\", palette=\"dark\", alpha=.6, height=6\n",
    ")"
   ]
  },
  {
   "cell_type": "code",
   "execution_count": 10,
   "id": "6d5910cf-5109-4bcf-8ce0-c7f9c18be417",
   "metadata": {
    "tags": []
   },
   "outputs": [
    {
     "name": "stderr",
     "output_type": "stream",
     "text": [
      "C:\\Users\\tanja\\AppData\\Local\\anaconda3\\Lib\\site-packages\\seaborn\\axisgrid.py:118: UserWarning: The figure layout has changed to tight\n",
      "  self._figure.tight_layout(*args, **kwargs)\n"
     ]
    },
    {
     "data": {
      "image/png": "[encoded data removed]",
      "text/plain": [
       "<Figure size 600x600 with 1 Axes>"
      ]
     },
     "metadata": {},
     "output_type": "display_data"
    }
   ],
   "source": [
    "#now we can compare the number of seats in the movie theatres in every state (Bundesland) and see the total in the whole country\n",
    "g = sns.catplot(\n",
    "    data=dataset, kind=\"bar\",\n",
    "    x=\"Sitzplätze\", y=\"Bundesland\", palette=\"dark\", alpha=.6, height=6\n",
    ")"
   ]
  },
  {
   "cell_type": "code",
   "execution_count": 20,
   "id": "66b468a1-752f-4d82-8e2b-cac6a3292f12",
   "metadata": {},
   "outputs": [],
   "source": [
    "#one more dataset to see what countries provide more films for Austrian movie theatres\n",
    "country = pd.read_csv('C:/Users/tanja/OneDrive/Documents/GitHub/Marktanteile der erstaufgeführten Kinofilme 2021 nach Herkunftsländern (Tabelle).csv', sep = \";\")"
   ]
  },
  {
   "cell_type": "code",
   "execution_count": 15,
   "id": "42a45208-a2c7-4225-b9e6-f993470b4f1e",
   "metadata": {
    "tags": []
   },
   "outputs": [
    {
     "data": {
      "text/html": [
       "<div>\n",
       "<style scoped>\n",
       "    .dataframe tbody tr th:only-of-type {\n",
       "        vertical-align: middle;\n",
       "    }\n",
       "\n",
       "    .dataframe tbody tr th {\n",
       "        vertical-align: top;\n",
       "    }\n",
       "\n",
       "    .dataframe thead th {\n",
       "        text-align: right;\n",
       "    }\n",
       "</style>\n",
       "<table border=\"1\" class=\"dataframe\">\n",
       "  <thead>\n",
       "    <tr style=\"text-align: right;\">\n",
       "      <th></th>\n",
       "      <th>Herkunftsland</th>\n",
       "      <th>Anzahl der Filme</th>\n",
       "      <th>Besuche in Tausend</th>\n",
       "      <th>Besuche in Prozent</th>\n",
       "    </tr>\n",
       "  </thead>\n",
       "  <tbody>\n",
       "    <tr>\n",
       "      <th>0</th>\n",
       "      <td>USA</td>\n",
       "      <td>82</td>\n",
       "      <td>3979,4</td>\n",
       "      <td>76,1</td>\n",
       "    </tr>\n",
       "    <tr>\n",
       "      <th>1</th>\n",
       "      <td>Deutschland</td>\n",
       "      <td>54</td>\n",
       "      <td>765,8</td>\n",
       "      <td>14,6</td>\n",
       "    </tr>\n",
       "    <tr>\n",
       "      <th>2</th>\n",
       "      <td>Österreich</td>\n",
       "      <td>25</td>\n",
       "      <td>137,7</td>\n",
       "      <td>2,6</td>\n",
       "    </tr>\n",
       "    <tr>\n",
       "      <th>3</th>\n",
       "      <td>Vereinigtes Königreich</td>\n",
       "      <td>20</td>\n",
       "      <td>95,2</td>\n",
       "      <td>1,8</td>\n",
       "    </tr>\n",
       "    <tr>\n",
       "      <th>4</th>\n",
       "      <td>Frankreich</td>\n",
       "      <td>25</td>\n",
       "      <td>45,9</td>\n",
       "      <td>0,9</td>\n",
       "    </tr>\n",
       "  </tbody>\n",
       "</table>\n",
       "</div>"
      ],
      "text/plain": [
       "            Herkunftsland  Anzahl der Filme Besuche in Tausend  \\\n",
       "0                     USA                82             3979,4   \n",
       "1             Deutschland                54              765,8   \n",
       "2              Österreich                25              137,7   \n",
       "3  Vereinigtes Königreich                20               95,2   \n",
       "4              Frankreich                25               45,9   \n",
       "\n",
       "  Besuche in Prozent  \n",
       "0               76,1  \n",
       "1               14,6  \n",
       "2                2,6  \n",
       "3                1,8  \n",
       "4                0,9  "
      ]
     },
     "execution_count": 15,
     "metadata": {},
     "output_type": "execute_result"
    }
   ],
   "source": [
    "#same procedure as we the dataset above\n",
    "country.head() #shows the first 5 rows "
   ]
  },
  {
   "cell_type": "code",
   "execution_count": 16,
   "id": "14753f8b-beb9-424f-9162-95e7ee1eeb00",
   "metadata": {
    "tags": []
   },
   "outputs": [
    {
     "data": {
      "text/html": [
       "<div>\n",
       "<style scoped>\n",
       "    .dataframe tbody tr th:only-of-type {\n",
       "        vertical-align: middle;\n",
       "    }\n",
       "\n",
       "    .dataframe tbody tr th {\n",
       "        vertical-align: top;\n",
       "    }\n",
       "\n",
       "    .dataframe thead th {\n",
       "        text-align: right;\n",
       "    }\n",
       "</style>\n",
       "<table border=\"1\" class=\"dataframe\">\n",
       "  <thead>\n",
       "    <tr style=\"text-align: right;\">\n",
       "      <th></th>\n",
       "      <th>Herkunftsland</th>\n",
       "      <th>Anzahl der Filme</th>\n",
       "      <th>Besuche in Tausend</th>\n",
       "      <th>Besuche in Prozent</th>\n",
       "    </tr>\n",
       "  </thead>\n",
       "  <tbody>\n",
       "    <tr>\n",
       "      <th>6</th>\n",
       "      <td>Italien</td>\n",
       "      <td>5</td>\n",
       "      <td>8,7</td>\n",
       "      <td>0,2</td>\n",
       "    </tr>\n",
       "    <tr>\n",
       "      <th>7</th>\n",
       "      <td>Türkei</td>\n",
       "      <td>7</td>\n",
       "      <td>5,7</td>\n",
       "      <td>0,1</td>\n",
       "    </tr>\n",
       "    <tr>\n",
       "      <th>8</th>\n",
       "      <td>Schweiz</td>\n",
       "      <td>5</td>\n",
       "      <td>4,8</td>\n",
       "      <td>0,1</td>\n",
       "    </tr>\n",
       "    <tr>\n",
       "      <th>9</th>\n",
       "      <td>Sonstige</td>\n",
       "      <td>39</td>\n",
       "      <td>16,6</td>\n",
       "      <td>3,2</td>\n",
       "    </tr>\n",
       "    <tr>\n",
       "      <th>10</th>\n",
       "      <td>Insgesamt</td>\n",
       "      <td>267</td>\n",
       "      <td>5228,3</td>\n",
       "      <td>100,0</td>\n",
       "    </tr>\n",
       "  </tbody>\n",
       "</table>\n",
       "</div>"
      ],
      "text/plain": [
       "   Herkunftsland  Anzahl der Filme Besuche in Tausend Besuche in Prozent\n",
       "6        Italien                 5                8,7                0,2\n",
       "7         Türkei                 7                5,7                0,1\n",
       "8        Schweiz                 5                4,8                0,1\n",
       "9       Sonstige                39               16,6                3,2\n",
       "10     Insgesamt               267             5228,3              100,0"
      ]
     },
     "execution_count": 16,
     "metadata": {},
     "output_type": "execute_result"
    }
   ],
   "source": [
    "country.tail() #shows the last 5 rows "
   ]
  },
  {
   "cell_type": "code",
   "execution_count": 17,
   "id": "e549a0a8-b01a-4364-acbf-e91b1992a47d",
   "metadata": {
    "tags": []
   },
   "outputs": [
    {
     "name": "stdout",
     "output_type": "stream",
     "text": [
      "             Herkunftsland  Anzahl der Filme Besuche in Tausend  \\\n",
      "0                      USA                82             3979,4   \n",
      "1              Deutschland                54              765,8   \n",
      "2               Österreich                25              137,7   \n",
      "3   Vereinigtes Königreich                20               95,2   \n",
      "4               Frankreich                25               45,9   \n",
      "5                    Japan                 5               18,8   \n",
      "6                  Italien                 5                8,7   \n",
      "7                   Türkei                 7                5,7   \n",
      "8                  Schweiz                 5                4,8   \n",
      "9                 Sonstige                39               16,6   \n",
      "10               Insgesamt               267             5228,3   \n",
      "\n",
      "   Besuche in Prozent  \n",
      "0                76,1  \n",
      "1                14,6  \n",
      "2                 2,6  \n",
      "3                 1,8  \n",
      "4                 0,9  \n",
      "5                 0,4  \n",
      "6                 0,2  \n",
      "7                 0,1  \n",
      "8                 0,1  \n",
      "9                 3,2  \n",
      "10              100,0  \n"
     ]
    }
   ],
   "source": [
    "print(country)"
   ]
  },
  {
   "cell_type": "code",
   "execution_count": 18,
   "id": "91924dbf-aa55-421b-91fc-b9dcc20531d9",
   "metadata": {
    "tags": []
   },
   "outputs": [
    {
     "name": "stdout",
     "output_type": "stream",
     "text": [
      "<class 'pandas.core.frame.DataFrame'>\n",
      "RangeIndex: 11 entries, 0 to 10\n",
      "Data columns (total 4 columns):\n",
      " #   Column              Non-Null Count  Dtype \n",
      "---  ------              --------------  ----- \n",
      " 0   Herkunftsland       11 non-null     object\n",
      " 1   Anzahl der Filme    11 non-null     int64 \n",
      " 2   Besuche in Tausend  11 non-null     object\n",
      " 3   Besuche in Prozent  11 non-null     object\n",
      "dtypes: int64(1), object(3)\n",
      "memory usage: 484.0+ bytes\n"
     ]
    }
   ],
   "source": [
    "country.info() #explore, types of the data"
   ]
  },
  {
   "cell_type": "code",
   "execution_count": 19,
   "id": "9d7d3a7b-acaa-4db2-813f-b88e4a85520f",
   "metadata": {
    "tags": []
   },
   "outputs": [
    {
     "data": {
      "text/html": [
       "<div>\n",
       "<style scoped>\n",
       "    .dataframe tbody tr th:only-of-type {\n",
       "        vertical-align: middle;\n",
       "    }\n",
       "\n",
       "    .dataframe tbody tr th {\n",
       "        vertical-align: top;\n",
       "    }\n",
       "\n",
       "    .dataframe thead th {\n",
       "        text-align: right;\n",
       "    }\n",
       "</style>\n",
       "<table border=\"1\" class=\"dataframe\">\n",
       "  <thead>\n",
       "    <tr style=\"text-align: right;\">\n",
       "      <th></th>\n",
       "      <th>Anzahl der Filme</th>\n",
       "    </tr>\n",
       "  </thead>\n",
       "  <tbody>\n",
       "    <tr>\n",
       "      <th>count</th>\n",
       "      <td>11.000000</td>\n",
       "    </tr>\n",
       "    <tr>\n",
       "      <th>mean</th>\n",
       "      <td>48.545455</td>\n",
       "    </tr>\n",
       "    <tr>\n",
       "      <th>std</th>\n",
       "      <td>76.354913</td>\n",
       "    </tr>\n",
       "    <tr>\n",
       "      <th>min</th>\n",
       "      <td>5.000000</td>\n",
       "    </tr>\n",
       "    <tr>\n",
       "      <th>25%</th>\n",
       "      <td>6.000000</td>\n",
       "    </tr>\n",
       "    <tr>\n",
       "      <th>50%</th>\n",
       "      <td>25.000000</td>\n",
       "    </tr>\n",
       "    <tr>\n",
       "      <th>75%</th>\n",
       "      <td>46.500000</td>\n",
       "    </tr>\n",
       "    <tr>\n",
       "      <th>max</th>\n",
       "      <td>267.000000</td>\n",
       "    </tr>\n",
       "  </tbody>\n",
       "</table>\n",
       "</div>"
      ],
      "text/plain": [
       "       Anzahl der Filme\n",
       "count         11.000000\n",
       "mean          48.545455\n",
       "std           76.354913\n",
       "min            5.000000\n",
       "25%            6.000000\n",
       "50%           25.000000\n",
       "75%           46.500000\n",
       "max          267.000000"
      ]
     },
     "execution_count": 19,
     "metadata": {},
     "output_type": "execute_result"
    }
   ],
   "source": [
    "country.describe()"
   ]
  },
  {
   "cell_type": "code",
   "execution_count": 21,
   "id": "1a8ffb0f-a74e-47ae-bf6e-c975dc49d6e9",
   "metadata": {
    "tags": []
   },
   "outputs": [
    {
     "name": "stderr",
     "output_type": "stream",
     "text": [
      "C:\\Users\\tanja\\AppData\\Local\\anaconda3\\Lib\\site-packages\\seaborn\\axisgrid.py:118: UserWarning: The figure layout has changed to tight\n",
      "  self._figure.tight_layout(*args, **kwargs)\n"
     ]
    },
    {
     "data": {
      "image/png": "[encoded data removed]",
      "text/plain": [
       "<Figure size 600x600 with 1 Axes>"
      ]
     },
     "metadata": {},
     "output_type": "display_data"
    }
   ],
   "source": [
    "#visualisation of the chosen table in order to compare\n",
    "g = sns.catplot(\n",
    "    data=country, kind=\"bar\",\n",
    "    x=\"Anzahl der Filme\", y=\"Herkunftsland\", palette=\"dark\", alpha=.6, height=6\n",
    ")"
   ]
  },
  {
   "cell_type": "code",
   "execution_count": null,
   "id": "065034ed-8674-4808-aadc-4190b4991dcb",
   "metadata": {},
   "outputs": [],
   "source": []
  }
 ],
 "metadata": {
  "kernelspec": {
   "display_name": "Python 3 (ipykernel)",
   "language": "python",
   "name": "python3"
  },
  "language_info": {
   "codemirror_mode": {
    "name": "ipython",
    "version": 3
   },
   "file_extension": ".py",
   "mimetype": "text/x-python",
   "name": "python",
   "nbconvert_exporter": "python",
   "pygments_lexer": "ipython3",
   "version": "3.11.5"
  }
 },
 "nbformat": 4,
 "nbformat_minor": 5
}
